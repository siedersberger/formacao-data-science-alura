{
 "cells": [
  {
   "cell_type": "markdown",
   "metadata": {},
   "source": [
    "## Pergunta: Coloque um cabeçalho nesse notebook com o seu nome e resumindo o que descobriu ao explorar esses dados"
   ]
  },
  {
   "cell_type": "markdown",
   "metadata": {},
   "source": [
    "## Formação Data Science Alura - Análise exploratória do MovieLens\n",
    "\n",
    "Na formação de Data Science da www.alura.com.br um dos conjuntos de dados que utilizamos é o de avaliações para filmes no site MovieLens. Neste projeto faremos uma análise exploratória desses dados."
   ]
  },
  {
   "cell_type": "markdown",
   "metadata": {},
   "source": [
    "### Dicas para o projeto completo:\n",
    "\n",
    "- todo gráfico deve ter um título, labels e legendas que fazem sentido\n",
    "- configure um tamanho adequado para os gráficos\n",
    "- utilize as versões dos arquivos de dados disponíveis no github"
   ]
  },
  {
   "cell_type": "markdown",
   "metadata": {},
   "source": [
    "## Pergunta: conferindo as versões utilizadas\n",
    "\n",
    "- Devemos usar pandas 0.24.0 ou mais recente\n",
    "- Devemos usar seaborn 0.9.0 ou mais recente\n",
    "- Devemos usar scipy 1.2.0 ou mais recente"
   ]
  },
  {
   "cell_type": "code",
   "execution_count": 1,
   "metadata": {},
   "outputs": [],
   "source": [
    "# !pip install pandas==\"0.24.0\" --quiet\n",
    "# !pip install seaborn==\"0.9.0\" --quiet\n",
    "# !pip install scipy==\"1.2.0\" --quiet"
   ]
  },
  {
   "cell_type": "code",
   "execution_count": 2,
   "metadata": {},
   "outputs": [
    {
     "name": "stdout",
     "output_type": "stream",
     "text": [
      "Usando pandas 0.24.0\n",
      "Usando seaborn 0.9.0\n",
      "Usando scipy 1.2.0\n"
     ]
    }
   ],
   "source": [
    "import pandas as pd\n",
    "import seaborn as sns\n",
    "import scipy\n",
    "\n",
    "print(\"Usando pandas %s\" % pd.__version__)\n",
    "print(\"Usando seaborn %s\" % sns.__version__)\n",
    "print(\"Usando scipy %s\" % scipy.__version__)"
   ]
  },
  {
   "cell_type": "markdown",
   "metadata": {},
   "source": [
    "## Pergunta: carregue os filmes\n",
    "\n",
    "- os dados `https://raw.githubusercontent.com/alura-cursos/formacao-data-science/master/movies.csv` devem ser carregado em `filmes`\n",
    "- renomeie as colunas para `filmeId`, `titulo` e `generos`\n",
    "- configure o indice (`index`) para ser o `filmeId`"
   ]
  },
  {
   "cell_type": "code",
   "execution_count": 3,
   "metadata": {},
   "outputs": [],
   "source": [
    "# solução\n",
    "uri = \"https://raw.githubusercontent.com/alura-cursos/formacao-data-science/master/movies.csv\"\n",
    "filmes = pd.read_csv(uri)\n",
    "\n",
    "colunas_renomeadas = {\n",
    "    'movieId':'filmeId',\n",
    "    'title': 'titulo',\n",
    "    'genres': 'generos'\n",
    "}\n",
    "\n",
    "filmes = filmes.rename(columns=colunas_renomeadas)\n",
    "filmes.set_index('filmeId', inplace=True)"
   ]
  },
  {
   "cell_type": "code",
   "execution_count": 4,
   "metadata": {},
   "outputs": [
    {
     "data": {
      "text/html": [
       "<div>\n",
       "<style scoped>\n",
       "    .dataframe tbody tr th:only-of-type {\n",
       "        vertical-align: middle;\n",
       "    }\n",
       "\n",
       "    .dataframe tbody tr th {\n",
       "        vertical-align: top;\n",
       "    }\n",
       "\n",
       "    .dataframe thead th {\n",
       "        text-align: right;\n",
       "    }\n",
       "</style>\n",
       "<table border=\"1\" class=\"dataframe\">\n",
       "  <thead>\n",
       "    <tr style=\"text-align: right;\">\n",
       "      <th></th>\n",
       "      <th>titulo</th>\n",
       "      <th>generos</th>\n",
       "    </tr>\n",
       "    <tr>\n",
       "      <th>filmeId</th>\n",
       "      <th></th>\n",
       "      <th></th>\n",
       "    </tr>\n",
       "  </thead>\n",
       "  <tbody>\n",
       "    <tr>\n",
       "      <th>1</th>\n",
       "      <td>Toy Story (1995)</td>\n",
       "      <td>Adventure|Animation|Children|Comedy|Fantasy</td>\n",
       "    </tr>\n",
       "    <tr>\n",
       "      <th>2</th>\n",
       "      <td>Jumanji (1995)</td>\n",
       "      <td>Adventure|Children|Fantasy</td>\n",
       "    </tr>\n",
       "    <tr>\n",
       "      <th>3</th>\n",
       "      <td>Grumpier Old Men (1995)</td>\n",
       "      <td>Comedy|Romance</td>\n",
       "    </tr>\n",
       "    <tr>\n",
       "      <th>4</th>\n",
       "      <td>Waiting to Exhale (1995)</td>\n",
       "      <td>Comedy|Drama|Romance</td>\n",
       "    </tr>\n",
       "    <tr>\n",
       "      <th>5</th>\n",
       "      <td>Father of the Bride Part II (1995)</td>\n",
       "      <td>Comedy</td>\n",
       "    </tr>\n",
       "  </tbody>\n",
       "</table>\n",
       "</div>"
      ],
      "text/plain": [
       "                                     titulo  \\\n",
       "filmeId                                       \n",
       "1                          Toy Story (1995)   \n",
       "2                            Jumanji (1995)   \n",
       "3                   Grumpier Old Men (1995)   \n",
       "4                  Waiting to Exhale (1995)   \n",
       "5        Father of the Bride Part II (1995)   \n",
       "\n",
       "                                             generos  \n",
       "filmeId                                               \n",
       "1        Adventure|Animation|Children|Comedy|Fantasy  \n",
       "2                         Adventure|Children|Fantasy  \n",
       "3                                     Comedy|Romance  \n",
       "4                               Comedy|Drama|Romance  \n",
       "5                                             Comedy  "
      ]
     },
     "execution_count": 4,
     "metadata": {},
     "output_type": "execute_result"
    }
   ],
   "source": [
    "filmes.head()"
   ]
  },
  {
   "cell_type": "code",
   "execution_count": 5,
   "metadata": {
    "scrolled": true
   },
   "outputs": [
    {
     "name": "stdout",
     "output_type": "stream",
     "text": [
      "Carregamos 9742 filmes\n"
     ]
    }
   ],
   "source": [
    "print(\"Carregamos %d filmes\" % len(filmes))\n",
    "if(len(filmes) != 9742):\n",
    "    print(\"ERRO! O conjunto de dados que estamos trabalhando nesse projeto possui 9742 elementos.\")"
   ]
  },
  {
   "cell_type": "markdown",
   "metadata": {},
   "source": [
    "Vamos extrair o ano dos filmes (código já pronto): "
   ]
  },
  {
   "cell_type": "code",
   "execution_count": 6,
   "metadata": {},
   "outputs": [
    {
     "data": {
      "text/html": [
       "<div>\n",
       "<style scoped>\n",
       "    .dataframe tbody tr th:only-of-type {\n",
       "        vertical-align: middle;\n",
       "    }\n",
       "\n",
       "    .dataframe tbody tr th {\n",
       "        vertical-align: top;\n",
       "    }\n",
       "\n",
       "    .dataframe thead th {\n",
       "        text-align: right;\n",
       "    }\n",
       "</style>\n",
       "<table border=\"1\" class=\"dataframe\">\n",
       "  <thead>\n",
       "    <tr style=\"text-align: right;\">\n",
       "      <th></th>\n",
       "      <th>titulo</th>\n",
       "      <th>generos</th>\n",
       "      <th>ano_de_lancamento</th>\n",
       "    </tr>\n",
       "    <tr>\n",
       "      <th>filmeId</th>\n",
       "      <th></th>\n",
       "      <th></th>\n",
       "      <th></th>\n",
       "    </tr>\n",
       "  </thead>\n",
       "  <tbody>\n",
       "    <tr>\n",
       "      <th>1</th>\n",
       "      <td>Toy Story (1995)</td>\n",
       "      <td>Adventure|Animation|Children|Comedy|Fantasy</td>\n",
       "      <td>1995.0</td>\n",
       "    </tr>\n",
       "    <tr>\n",
       "      <th>2</th>\n",
       "      <td>Jumanji (1995)</td>\n",
       "      <td>Adventure|Children|Fantasy</td>\n",
       "      <td>1995.0</td>\n",
       "    </tr>\n",
       "    <tr>\n",
       "      <th>3</th>\n",
       "      <td>Grumpier Old Men (1995)</td>\n",
       "      <td>Comedy|Romance</td>\n",
       "      <td>1995.0</td>\n",
       "    </tr>\n",
       "    <tr>\n",
       "      <th>4</th>\n",
       "      <td>Waiting to Exhale (1995)</td>\n",
       "      <td>Comedy|Drama|Romance</td>\n",
       "      <td>1995.0</td>\n",
       "    </tr>\n",
       "    <tr>\n",
       "      <th>5</th>\n",
       "      <td>Father of the Bride Part II (1995)</td>\n",
       "      <td>Comedy</td>\n",
       "      <td>1995.0</td>\n",
       "    </tr>\n",
       "  </tbody>\n",
       "</table>\n",
       "</div>"
      ],
      "text/plain": [
       "                                     titulo  \\\n",
       "filmeId                                       \n",
       "1                          Toy Story (1995)   \n",
       "2                            Jumanji (1995)   \n",
       "3                   Grumpier Old Men (1995)   \n",
       "4                  Waiting to Exhale (1995)   \n",
       "5        Father of the Bride Part II (1995)   \n",
       "\n",
       "                                             generos  ano_de_lancamento  \n",
       "filmeId                                                                  \n",
       "1        Adventure|Animation|Children|Comedy|Fantasy             1995.0  \n",
       "2                         Adventure|Children|Fantasy             1995.0  \n",
       "3                                     Comedy|Romance             1995.0  \n",
       "4                               Comedy|Drama|Romance             1995.0  \n",
       "5                                             Comedy             1995.0  "
      ]
     },
     "execution_count": 6,
     "metadata": {},
     "output_type": "execute_result"
    }
   ],
   "source": [
    "ano_de_lancamento = filmes.titulo.str.extract(\"\\((\\d{4})\\)\")\n",
    "filmes['ano_de_lancamento'] = ano_de_lancamento.astype(float)\n",
    "filmes.head()"
   ]
  },
  {
   "cell_type": "markdown",
   "metadata": {},
   "source": [
    "## Pergunta: carregando as notas\n",
    "\n",
    "- os dados `https://raw.githubusercontent.com/alura-cursos/formacao-data-science/master/ratings.csv` devem ser carregado em `notas`\n",
    "- renomeie as colunas para `usuarioId`, `filmeId`, `nota` e `momento`"
   ]
  },
  {
   "cell_type": "code",
   "execution_count": 7,
   "metadata": {},
   "outputs": [],
   "source": [
    "# solução\n",
    "uri = \"https://raw.githubusercontent.com/alura-cursos/formacao-data-science/master/ratings.csv\"\n",
    "notas = pd.read_csv(uri)\n",
    "\n",
    "colunas_renomeadas = {\n",
    "    'movieId': 'filmeId',\n",
    "    'userId': 'usuarioId',\n",
    "    'rating': 'nota',\n",
    "    'timestamp':'momento'\n",
    "}\n",
    "\n",
    "notas = notas.rename(columns=colunas_renomeadas)"
   ]
  },
  {
   "cell_type": "code",
   "execution_count": 8,
   "metadata": {},
   "outputs": [
    {
     "data": {
      "text/html": [
       "<div>\n",
       "<style scoped>\n",
       "    .dataframe tbody tr th:only-of-type {\n",
       "        vertical-align: middle;\n",
       "    }\n",
       "\n",
       "    .dataframe tbody tr th {\n",
       "        vertical-align: top;\n",
       "    }\n",
       "\n",
       "    .dataframe thead th {\n",
       "        text-align: right;\n",
       "    }\n",
       "</style>\n",
       "<table border=\"1\" class=\"dataframe\">\n",
       "  <thead>\n",
       "    <tr style=\"text-align: right;\">\n",
       "      <th></th>\n",
       "      <th>usuarioId</th>\n",
       "      <th>filmeId</th>\n",
       "      <th>nota</th>\n",
       "      <th>momento</th>\n",
       "    </tr>\n",
       "  </thead>\n",
       "  <tbody>\n",
       "    <tr>\n",
       "      <th>0</th>\n",
       "      <td>1</td>\n",
       "      <td>1</td>\n",
       "      <td>4.0</td>\n",
       "      <td>964982703</td>\n",
       "    </tr>\n",
       "    <tr>\n",
       "      <th>1</th>\n",
       "      <td>1</td>\n",
       "      <td>3</td>\n",
       "      <td>4.0</td>\n",
       "      <td>964981247</td>\n",
       "    </tr>\n",
       "    <tr>\n",
       "      <th>2</th>\n",
       "      <td>1</td>\n",
       "      <td>6</td>\n",
       "      <td>4.0</td>\n",
       "      <td>964982224</td>\n",
       "    </tr>\n",
       "    <tr>\n",
       "      <th>3</th>\n",
       "      <td>1</td>\n",
       "      <td>47</td>\n",
       "      <td>5.0</td>\n",
       "      <td>964983815</td>\n",
       "    </tr>\n",
       "    <tr>\n",
       "      <th>4</th>\n",
       "      <td>1</td>\n",
       "      <td>50</td>\n",
       "      <td>5.0</td>\n",
       "      <td>964982931</td>\n",
       "    </tr>\n",
       "  </tbody>\n",
       "</table>\n",
       "</div>"
      ],
      "text/plain": [
       "   usuarioId  filmeId  nota    momento\n",
       "0          1        1   4.0  964982703\n",
       "1          1        3   4.0  964981247\n",
       "2          1        6   4.0  964982224\n",
       "3          1       47   5.0  964983815\n",
       "4          1       50   5.0  964982931"
      ]
     },
     "execution_count": 8,
     "metadata": {},
     "output_type": "execute_result"
    }
   ],
   "source": [
    "notas.head()"
   ]
  },
  {
   "cell_type": "code",
   "execution_count": 9,
   "metadata": {},
   "outputs": [
    {
     "data": {
      "text/html": [
       "<div>\n",
       "<style scoped>\n",
       "    .dataframe tbody tr th:only-of-type {\n",
       "        vertical-align: middle;\n",
       "    }\n",
       "\n",
       "    .dataframe tbody tr th {\n",
       "        vertical-align: top;\n",
       "    }\n",
       "\n",
       "    .dataframe thead th {\n",
       "        text-align: right;\n",
       "    }\n",
       "</style>\n",
       "<table border=\"1\" class=\"dataframe\">\n",
       "  <thead>\n",
       "    <tr style=\"text-align: right;\">\n",
       "      <th></th>\n",
       "      <th>usuarioId</th>\n",
       "      <th>filmeId</th>\n",
       "      <th>nota</th>\n",
       "      <th>momento</th>\n",
       "    </tr>\n",
       "  </thead>\n",
       "  <tbody>\n",
       "    <tr>\n",
       "      <th>count</th>\n",
       "      <td>100836.00</td>\n",
       "      <td>100836.00</td>\n",
       "      <td>100836.00</td>\n",
       "      <td>1.008360e+05</td>\n",
       "    </tr>\n",
       "    <tr>\n",
       "      <th>mean</th>\n",
       "      <td>326.13</td>\n",
       "      <td>19435.30</td>\n",
       "      <td>3.50</td>\n",
       "      <td>1.205946e+09</td>\n",
       "    </tr>\n",
       "    <tr>\n",
       "      <th>std</th>\n",
       "      <td>182.62</td>\n",
       "      <td>35530.99</td>\n",
       "      <td>1.04</td>\n",
       "      <td>2.162610e+08</td>\n",
       "    </tr>\n",
       "    <tr>\n",
       "      <th>min</th>\n",
       "      <td>1.00</td>\n",
       "      <td>1.00</td>\n",
       "      <td>0.50</td>\n",
       "      <td>8.281246e+08</td>\n",
       "    </tr>\n",
       "    <tr>\n",
       "      <th>25%</th>\n",
       "      <td>177.00</td>\n",
       "      <td>1199.00</td>\n",
       "      <td>3.00</td>\n",
       "      <td>1.019124e+09</td>\n",
       "    </tr>\n",
       "    <tr>\n",
       "      <th>50%</th>\n",
       "      <td>325.00</td>\n",
       "      <td>2991.00</td>\n",
       "      <td>3.50</td>\n",
       "      <td>1.186087e+09</td>\n",
       "    </tr>\n",
       "    <tr>\n",
       "      <th>75%</th>\n",
       "      <td>477.00</td>\n",
       "      <td>8122.00</td>\n",
       "      <td>4.00</td>\n",
       "      <td>1.435994e+09</td>\n",
       "    </tr>\n",
       "    <tr>\n",
       "      <th>max</th>\n",
       "      <td>610.00</td>\n",
       "      <td>193609.00</td>\n",
       "      <td>5.00</td>\n",
       "      <td>1.537799e+09</td>\n",
       "    </tr>\n",
       "  </tbody>\n",
       "</table>\n",
       "</div>"
      ],
      "text/plain": [
       "       usuarioId    filmeId       nota       momento\n",
       "count  100836.00  100836.00  100836.00  1.008360e+05\n",
       "mean      326.13   19435.30       3.50  1.205946e+09\n",
       "std       182.62   35530.99       1.04  2.162610e+08\n",
       "min         1.00       1.00       0.50  8.281246e+08\n",
       "25%       177.00    1199.00       3.00  1.019124e+09\n",
       "50%       325.00    2991.00       3.50  1.186087e+09\n",
       "75%       477.00    8122.00       4.00  1.435994e+09\n",
       "max       610.00  193609.00       5.00  1.537799e+09"
      ]
     },
     "execution_count": 9,
     "metadata": {},
     "output_type": "execute_result"
    }
   ],
   "source": [
    "notas.describe().round(2)"
   ]
  },
  {
   "cell_type": "markdown",
   "metadata": {},
   "source": [
    "## Pergunta: gere uma nova feature, a média dos votos por filme\n",
    "\n",
    "- crie uma nova coluna chamada `nota_media` dentro do dataframe `filmes`\n",
    "\n",
    "Dicas:\n",
    "- como filmeId já é o indice de seu dataframe filmes, se você possui uma série com o número de votos por filme, basta atribuir uma nova coluna normalmente que será usado o mesmo índice"
   ]
  },
  {
   "cell_type": "code",
   "execution_count": 10,
   "metadata": {},
   "outputs": [
    {
     "data": {
      "text/html": [
       "<div>\n",
       "<style scoped>\n",
       "    .dataframe tbody tr th:only-of-type {\n",
       "        vertical-align: middle;\n",
       "    }\n",
       "\n",
       "    .dataframe tbody tr th {\n",
       "        vertical-align: top;\n",
       "    }\n",
       "\n",
       "    .dataframe thead th {\n",
       "        text-align: right;\n",
       "    }\n",
       "</style>\n",
       "<table border=\"1\" class=\"dataframe\">\n",
       "  <thead>\n",
       "    <tr style=\"text-align: right;\">\n",
       "      <th></th>\n",
       "      <th>titulo</th>\n",
       "      <th>generos</th>\n",
       "      <th>ano_de_lancamento</th>\n",
       "      <th>nota_media</th>\n",
       "    </tr>\n",
       "    <tr>\n",
       "      <th>filmeId</th>\n",
       "      <th></th>\n",
       "      <th></th>\n",
       "      <th></th>\n",
       "      <th></th>\n",
       "    </tr>\n",
       "  </thead>\n",
       "  <tbody>\n",
       "    <tr>\n",
       "      <th>1</th>\n",
       "      <td>Toy Story (1995)</td>\n",
       "      <td>Adventure|Animation|Children|Comedy|Fantasy</td>\n",
       "      <td>1995.0</td>\n",
       "      <td>3.920930</td>\n",
       "    </tr>\n",
       "    <tr>\n",
       "      <th>2</th>\n",
       "      <td>Jumanji (1995)</td>\n",
       "      <td>Adventure|Children|Fantasy</td>\n",
       "      <td>1995.0</td>\n",
       "      <td>3.431818</td>\n",
       "    </tr>\n",
       "    <tr>\n",
       "      <th>3</th>\n",
       "      <td>Grumpier Old Men (1995)</td>\n",
       "      <td>Comedy|Romance</td>\n",
       "      <td>1995.0</td>\n",
       "      <td>3.259615</td>\n",
       "    </tr>\n",
       "    <tr>\n",
       "      <th>4</th>\n",
       "      <td>Waiting to Exhale (1995)</td>\n",
       "      <td>Comedy|Drama|Romance</td>\n",
       "      <td>1995.0</td>\n",
       "      <td>2.357143</td>\n",
       "    </tr>\n",
       "    <tr>\n",
       "      <th>5</th>\n",
       "      <td>Father of the Bride Part II (1995)</td>\n",
       "      <td>Comedy</td>\n",
       "      <td>1995.0</td>\n",
       "      <td>3.071429</td>\n",
       "    </tr>\n",
       "  </tbody>\n",
       "</table>\n",
       "</div>"
      ],
      "text/plain": [
       "                                     titulo  \\\n",
       "filmeId                                       \n",
       "1                          Toy Story (1995)   \n",
       "2                            Jumanji (1995)   \n",
       "3                   Grumpier Old Men (1995)   \n",
       "4                  Waiting to Exhale (1995)   \n",
       "5        Father of the Bride Part II (1995)   \n",
       "\n",
       "                                             generos  ano_de_lancamento  \\\n",
       "filmeId                                                                   \n",
       "1        Adventure|Animation|Children|Comedy|Fantasy             1995.0   \n",
       "2                         Adventure|Children|Fantasy             1995.0   \n",
       "3                                     Comedy|Romance             1995.0   \n",
       "4                               Comedy|Drama|Romance             1995.0   \n",
       "5                                             Comedy             1995.0   \n",
       "\n",
       "         nota_media  \n",
       "filmeId              \n",
       "1          3.920930  \n",
       "2          3.431818  \n",
       "3          3.259615  \n",
       "4          2.357143  \n",
       "5          3.071429  "
      ]
     },
     "execution_count": 10,
     "metadata": {},
     "output_type": "execute_result"
    }
   ],
   "source": [
    "# solução\n",
    "nota_media_por_filme = notas.groupby(['filmeId']).mean()\n",
    "filmes['nota_media'] = nota_media_por_filme.nota\n",
    "filmes.head()"
   ]
  },
  {
   "cell_type": "code",
   "execution_count": 11,
   "metadata": {},
   "outputs": [
    {
     "data": {
      "text/html": [
       "<div>\n",
       "<style scoped>\n",
       "    .dataframe tbody tr th:only-of-type {\n",
       "        vertical-align: middle;\n",
       "    }\n",
       "\n",
       "    .dataframe tbody tr th {\n",
       "        vertical-align: top;\n",
       "    }\n",
       "\n",
       "    .dataframe thead th {\n",
       "        text-align: right;\n",
       "    }\n",
       "</style>\n",
       "<table border=\"1\" class=\"dataframe\">\n",
       "  <thead>\n",
       "    <tr style=\"text-align: right;\">\n",
       "      <th></th>\n",
       "      <th>titulo</th>\n",
       "      <th>generos</th>\n",
       "      <th>ano_de_lancamento</th>\n",
       "      <th>nota_media</th>\n",
       "    </tr>\n",
       "    <tr>\n",
       "      <th>filmeId</th>\n",
       "      <th></th>\n",
       "      <th></th>\n",
       "      <th></th>\n",
       "      <th></th>\n",
       "    </tr>\n",
       "  </thead>\n",
       "  <tbody>\n",
       "    <tr>\n",
       "      <th>1</th>\n",
       "      <td>Toy Story (1995)</td>\n",
       "      <td>Adventure|Animation|Children|Comedy|Fantasy</td>\n",
       "      <td>1995.0</td>\n",
       "      <td>3.920930</td>\n",
       "    </tr>\n",
       "    <tr>\n",
       "      <th>2</th>\n",
       "      <td>Jumanji (1995)</td>\n",
       "      <td>Adventure|Children|Fantasy</td>\n",
       "      <td>1995.0</td>\n",
       "      <td>3.431818</td>\n",
       "    </tr>\n",
       "    <tr>\n",
       "      <th>3</th>\n",
       "      <td>Grumpier Old Men (1995)</td>\n",
       "      <td>Comedy|Romance</td>\n",
       "      <td>1995.0</td>\n",
       "      <td>3.259615</td>\n",
       "    </tr>\n",
       "    <tr>\n",
       "      <th>4</th>\n",
       "      <td>Waiting to Exhale (1995)</td>\n",
       "      <td>Comedy|Drama|Romance</td>\n",
       "      <td>1995.0</td>\n",
       "      <td>2.357143</td>\n",
       "    </tr>\n",
       "    <tr>\n",
       "      <th>5</th>\n",
       "      <td>Father of the Bride Part II (1995)</td>\n",
       "      <td>Comedy</td>\n",
       "      <td>1995.0</td>\n",
       "      <td>3.071429</td>\n",
       "    </tr>\n",
       "  </tbody>\n",
       "</table>\n",
       "</div>"
      ],
      "text/plain": [
       "                                     titulo  \\\n",
       "filmeId                                       \n",
       "1                          Toy Story (1995)   \n",
       "2                            Jumanji (1995)   \n",
       "3                   Grumpier Old Men (1995)   \n",
       "4                  Waiting to Exhale (1995)   \n",
       "5        Father of the Bride Part II (1995)   \n",
       "\n",
       "                                             generos  ano_de_lancamento  \\\n",
       "filmeId                                                                   \n",
       "1        Adventure|Animation|Children|Comedy|Fantasy             1995.0   \n",
       "2                         Adventure|Children|Fantasy             1995.0   \n",
       "3                                     Comedy|Romance             1995.0   \n",
       "4                               Comedy|Drama|Romance             1995.0   \n",
       "5                                             Comedy             1995.0   \n",
       "\n",
       "         nota_media  \n",
       "filmeId              \n",
       "1          3.920930  \n",
       "2          3.431818  \n",
       "3          3.259615  \n",
       "4          2.357143  \n",
       "5          3.071429  "
      ]
     },
     "execution_count": 11,
     "metadata": {},
     "output_type": "execute_result"
    }
   ],
   "source": [
    "filmes.head()"
   ]
  },
  {
   "cell_type": "markdown",
   "metadata": {},
   "source": [
    "## Pergunta: remova os filmes com menos de 50 avaliações\n",
    "\n",
    "- conte o número de notas por filme\n",
    "- adicione uma coluna nova chamada `total_de_votos` a `filmes` que representa o número de avaliações que aquele filme teve no conjunto de dados\n",
    "- remova os que tem 49 ou menos de `filmes`"
   ]
  },
  {
   "cell_type": "markdown",
   "metadata": {},
   "source": [
    "## Solução"
   ]
  },
  {
   "cell_type": "code",
   "execution_count": 12,
   "metadata": {},
   "outputs": [
    {
     "data": {
      "text/html": [
       "<div>\n",
       "<style scoped>\n",
       "    .dataframe tbody tr th:only-of-type {\n",
       "        vertical-align: middle;\n",
       "    }\n",
       "\n",
       "    .dataframe tbody tr th {\n",
       "        vertical-align: top;\n",
       "    }\n",
       "\n",
       "    .dataframe thead th {\n",
       "        text-align: right;\n",
       "    }\n",
       "</style>\n",
       "<table border=\"1\" class=\"dataframe\">\n",
       "  <thead>\n",
       "    <tr style=\"text-align: right;\">\n",
       "      <th></th>\n",
       "      <th>titulo</th>\n",
       "      <th>generos</th>\n",
       "      <th>ano_de_lancamento</th>\n",
       "      <th>nota_media</th>\n",
       "      <th>total_de_votos</th>\n",
       "    </tr>\n",
       "    <tr>\n",
       "      <th>filmeId</th>\n",
       "      <th></th>\n",
       "      <th></th>\n",
       "      <th></th>\n",
       "      <th></th>\n",
       "      <th></th>\n",
       "    </tr>\n",
       "  </thead>\n",
       "  <tbody>\n",
       "    <tr>\n",
       "      <th>1</th>\n",
       "      <td>Toy Story (1995)</td>\n",
       "      <td>Adventure|Animation|Children|Comedy|Fantasy</td>\n",
       "      <td>1995.0</td>\n",
       "      <td>3.920930</td>\n",
       "      <td>215.0</td>\n",
       "    </tr>\n",
       "    <tr>\n",
       "      <th>2</th>\n",
       "      <td>Jumanji (1995)</td>\n",
       "      <td>Adventure|Children|Fantasy</td>\n",
       "      <td>1995.0</td>\n",
       "      <td>3.431818</td>\n",
       "      <td>110.0</td>\n",
       "    </tr>\n",
       "    <tr>\n",
       "      <th>3</th>\n",
       "      <td>Grumpier Old Men (1995)</td>\n",
       "      <td>Comedy|Romance</td>\n",
       "      <td>1995.0</td>\n",
       "      <td>3.259615</td>\n",
       "      <td>52.0</td>\n",
       "    </tr>\n",
       "    <tr>\n",
       "      <th>4</th>\n",
       "      <td>Waiting to Exhale (1995)</td>\n",
       "      <td>Comedy|Drama|Romance</td>\n",
       "      <td>1995.0</td>\n",
       "      <td>2.357143</td>\n",
       "      <td>7.0</td>\n",
       "    </tr>\n",
       "    <tr>\n",
       "      <th>5</th>\n",
       "      <td>Father of the Bride Part II (1995)</td>\n",
       "      <td>Comedy</td>\n",
       "      <td>1995.0</td>\n",
       "      <td>3.071429</td>\n",
       "      <td>49.0</td>\n",
       "    </tr>\n",
       "  </tbody>\n",
       "</table>\n",
       "</div>"
      ],
      "text/plain": [
       "                                     titulo  \\\n",
       "filmeId                                       \n",
       "1                          Toy Story (1995)   \n",
       "2                            Jumanji (1995)   \n",
       "3                   Grumpier Old Men (1995)   \n",
       "4                  Waiting to Exhale (1995)   \n",
       "5        Father of the Bride Part II (1995)   \n",
       "\n",
       "                                             generos  ano_de_lancamento  \\\n",
       "filmeId                                                                   \n",
       "1        Adventure|Animation|Children|Comedy|Fantasy             1995.0   \n",
       "2                         Adventure|Children|Fantasy             1995.0   \n",
       "3                                     Comedy|Romance             1995.0   \n",
       "4                               Comedy|Drama|Romance             1995.0   \n",
       "5                                             Comedy             1995.0   \n",
       "\n",
       "         nota_media  total_de_votos  \n",
       "filmeId                              \n",
       "1          3.920930           215.0  \n",
       "2          3.431818           110.0  \n",
       "3          3.259615            52.0  \n",
       "4          2.357143             7.0  \n",
       "5          3.071429            49.0  "
      ]
     },
     "execution_count": 12,
     "metadata": {},
     "output_type": "execute_result"
    }
   ],
   "source": [
    "# solução para calcular o total de votos por filme\n",
    "\n",
    "total_de_votos = notas.groupby(['filmeId']).count()\n",
    "filmes['total_de_votos'] = total_de_votos.nota\n",
    "filmes.head()"
   ]
  },
  {
   "cell_type": "code",
   "execution_count": 13,
   "metadata": {},
   "outputs": [
    {
     "data": {
      "text/plain": [
       "(9742, 5)"
      ]
     },
     "execution_count": 13,
     "metadata": {},
     "output_type": "execute_result"
    }
   ],
   "source": [
    "filmes.shape"
   ]
  },
  {
   "cell_type": "code",
   "execution_count": 14,
   "metadata": {},
   "outputs": [
    {
     "data": {
      "text/plain": [
       "<matplotlib.axes._subplots.AxesSubplot at 0x7f12d7861e80>"
      ]
     },
     "execution_count": 14,
     "metadata": {},
     "output_type": "execute_result"
    },
    {
     "data": {
      "image/png": "[encoded data removed]",
      "text/plain": [
       "<Figure size 432x288 with 1 Axes>"
      ]
     },
     "metadata": {
      "needs_background": "light"
     },
     "output_type": "display_data"
    }
   ],
   "source": [
    "sns.boxplot(filmes.total_de_votos)"
   ]
  },
  {
   "cell_type": "code",
   "execution_count": 15,
   "metadata": {},
   "outputs": [
    {
     "data": {
      "text/plain": [
       "(450, 5)"
      ]
     },
     "execution_count": 15,
     "metadata": {},
     "output_type": "execute_result"
    }
   ],
   "source": [
    "# solução para criar a nova coluna e filtrar os filmes\n",
    "filmes = filmes.query('total_de_votos >= 50')\n",
    "filmes.shape"
   ]
  },
  {
   "cell_type": "code",
   "execution_count": 16,
   "metadata": {},
   "outputs": [
    {
     "data": {
      "text/html": [
       "<div>\n",
       "<style scoped>\n",
       "    .dataframe tbody tr th:only-of-type {\n",
       "        vertical-align: middle;\n",
       "    }\n",
       "\n",
       "    .dataframe tbody tr th {\n",
       "        vertical-align: top;\n",
       "    }\n",
       "\n",
       "    .dataframe thead th {\n",
       "        text-align: right;\n",
       "    }\n",
       "</style>\n",
       "<table border=\"1\" class=\"dataframe\">\n",
       "  <thead>\n",
       "    <tr style=\"text-align: right;\">\n",
       "      <th></th>\n",
       "      <th>titulo</th>\n",
       "      <th>generos</th>\n",
       "      <th>ano_de_lancamento</th>\n",
       "      <th>nota_media</th>\n",
       "      <th>total_de_votos</th>\n",
       "    </tr>\n",
       "    <tr>\n",
       "      <th>filmeId</th>\n",
       "      <th></th>\n",
       "      <th></th>\n",
       "      <th></th>\n",
       "      <th></th>\n",
       "      <th></th>\n",
       "    </tr>\n",
       "  </thead>\n",
       "  <tbody>\n",
       "    <tr>\n",
       "      <th>1</th>\n",
       "      <td>Toy Story (1995)</td>\n",
       "      <td>Adventure|Animation|Children|Comedy|Fantasy</td>\n",
       "      <td>1995.0</td>\n",
       "      <td>3.920930</td>\n",
       "      <td>215.0</td>\n",
       "    </tr>\n",
       "    <tr>\n",
       "      <th>2</th>\n",
       "      <td>Jumanji (1995)</td>\n",
       "      <td>Adventure|Children|Fantasy</td>\n",
       "      <td>1995.0</td>\n",
       "      <td>3.431818</td>\n",
       "      <td>110.0</td>\n",
       "    </tr>\n",
       "    <tr>\n",
       "      <th>3</th>\n",
       "      <td>Grumpier Old Men (1995)</td>\n",
       "      <td>Comedy|Romance</td>\n",
       "      <td>1995.0</td>\n",
       "      <td>3.259615</td>\n",
       "      <td>52.0</td>\n",
       "    </tr>\n",
       "    <tr>\n",
       "      <th>6</th>\n",
       "      <td>Heat (1995)</td>\n",
       "      <td>Action|Crime|Thriller</td>\n",
       "      <td>1995.0</td>\n",
       "      <td>3.946078</td>\n",
       "      <td>102.0</td>\n",
       "    </tr>\n",
       "    <tr>\n",
       "      <th>7</th>\n",
       "      <td>Sabrina (1995)</td>\n",
       "      <td>Comedy|Romance</td>\n",
       "      <td>1995.0</td>\n",
       "      <td>3.185185</td>\n",
       "      <td>54.0</td>\n",
       "    </tr>\n",
       "  </tbody>\n",
       "</table>\n",
       "</div>"
      ],
      "text/plain": [
       "                          titulo                                      generos  \\\n",
       "filmeId                                                                         \n",
       "1               Toy Story (1995)  Adventure|Animation|Children|Comedy|Fantasy   \n",
       "2                 Jumanji (1995)                   Adventure|Children|Fantasy   \n",
       "3        Grumpier Old Men (1995)                               Comedy|Romance   \n",
       "6                    Heat (1995)                        Action|Crime|Thriller   \n",
       "7                 Sabrina (1995)                               Comedy|Romance   \n",
       "\n",
       "         ano_de_lancamento  nota_media  total_de_votos  \n",
       "filmeId                                                 \n",
       "1                   1995.0    3.920930           215.0  \n",
       "2                   1995.0    3.431818           110.0  \n",
       "3                   1995.0    3.259615            52.0  \n",
       "6                   1995.0    3.946078           102.0  \n",
       "7                   1995.0    3.185185            54.0  "
      ]
     },
     "execution_count": 16,
     "metadata": {},
     "output_type": "execute_result"
    }
   ],
   "source": [
    "filmes.head()"
   ]
  },
  {
   "cell_type": "markdown",
   "metadata": {},
   "source": [
    "# Visualizando os dados gerais"
   ]
  },
  {
   "cell_type": "markdown",
   "metadata": {},
   "source": [
    "## Pergunta: Visualize as notas médias\n",
    "\n",
    "- histograma\n",
    "- cummulative distribution function\n",
    "\n",
    "Dicas:\n",
    "\n",
    "- lembre-se de colocar um título nas imagens além de nomes nos eixos x e y\n",
    "- para gerar a versão cumulativa lembre-se de usar os parâmetros `hist_kws` e `kde_kws` para definir `'cumulative'=True`"
   ]
  },
  {
   "cell_type": "code",
   "execution_count": 17,
   "metadata": {},
   "outputs": [],
   "source": [
    "import matplotlib.pyplot as plt\n",
    "sns.set_style(\"whitegrid\")\n",
    "sns.set_palette(\"deep\")"
   ]
  },
  {
   "cell_type": "code",
   "execution_count": 18,
   "metadata": {},
   "outputs": [
    {
     "data": {
      "text/plain": [
       "Text(0,0.5,'frequência')"
      ]
     },
     "execution_count": 18,
     "metadata": {},
     "output_type": "execute_result"
    },
    {
     "data": {
      "image/png": "[encoded data removed]",
      "text/plain": [
       "<Figure size 432x288 with 1 Axes>"
      ]
     },
     "metadata": {},
     "output_type": "display_data"
    }
   ],
   "source": [
    "# solução histograma\n",
    "\n",
    "fig = plt.figure()\n",
    "ax = plt.subplot()\n",
    "\n",
    "ax.hist(filmes.nota_media)\n",
    "ax.set_title('Distribuição de frequências das notas médias')\n",
    "ax.set_xlabel('notas médias')\n",
    "ax.set_ylabel('frequência')"
   ]
  },
  {
   "cell_type": "code",
   "execution_count": 19,
   "metadata": {},
   "outputs": [
    {
     "data": {
      "text/plain": [
       "Text(0,0.5,'número de filmes')"
      ]
     },
     "execution_count": 19,
     "metadata": {},
     "output_type": "execute_result"
    },
    {
     "data": {
      "image/png": "[encoded data removed]",
      "text/plain": [
       "<Figure size 432x288 with 1 Axes>"
      ]
     },
     "metadata": {},
     "output_type": "display_data"
    }
   ],
   "source": [
    "# solução cumulativa\n",
    "\n",
    "fig = plt.figure()\n",
    "ax = plt.subplot()\n",
    "\n",
    "ax.hist(filmes.nota_media,  cumulative=1)\n",
    "ax.set_title('Distribuição cumulativa das notas médias')\n",
    "ax.set_xlabel('notas médias')\n",
    "ax.set_ylabel('número de filmes')"
   ]
  },
  {
   "cell_type": "markdown",
   "metadata": {},
   "source": [
    "## Pergunta: Visualize o total de votos\n",
    "\n",
    "- histograma\n",
    "- cummulative distribution function"
   ]
  },
  {
   "cell_type": "code",
   "execution_count": 20,
   "metadata": {},
   "outputs": [
    {
     "data": {
      "text/plain": [
       "Text(0,0.5,'frequência')"
      ]
     },
     "execution_count": 20,
     "metadata": {},
     "output_type": "execute_result"
    },
    {
     "data": {
      "image/png": "[encoded data removed]",
      "text/plain": [
       "<Figure size 432x288 with 1 Axes>"
      ]
     },
     "metadata": {},
     "output_type": "display_data"
    }
   ],
   "source": [
    "# solução histograma\n",
    "\n",
    "fig = plt.figure()\n",
    "ax = plt.subplot()\n",
    "\n",
    "ax.hist(filmes.total_de_votos)\n",
    "ax.set_title('Distribuição de frequências do total de votos por filme')\n",
    "ax.set_xlabel('total de votos')\n",
    "ax.set_ylabel('frequência')"
   ]
  },
  {
   "cell_type": "code",
   "execution_count": 21,
   "metadata": {},
   "outputs": [
    {
     "data": {
      "text/plain": [
       "Text(0,0.5,'numéro de filmes')"
      ]
     },
     "execution_count": 21,
     "metadata": {},
     "output_type": "execute_result"
    },
    {
     "data": {
      "image/png": "[encoded data removed]",
      "text/plain": [
       "<Figure size 432x288 with 1 Axes>"
      ]
     },
     "metadata": {},
     "output_type": "display_data"
    }
   ],
   "source": [
    "# solução cumulativa\n",
    "\n",
    "fig = plt.figure()\n",
    "ax = plt.subplot()\n",
    "\n",
    "ax.hist(filmes.total_de_votos, cumulative=-1)\n",
    "ax.set_title('Distribuição cumulativa do total de votos por filme')\n",
    "ax.set_xlabel('total de votos')\n",
    "ax.set_ylabel('numéro de filmes')"
   ]
  },
  {
   "cell_type": "markdown",
   "metadata": {},
   "source": [
    "## Pergunta: 20% dos filmes do dataframe tem nota maior que? \n",
    "\n",
    "- lembre-se da função `quantile` do pandas"
   ]
  },
  {
   "cell_type": "code",
   "execution_count": 22,
   "metadata": {},
   "outputs": [
    {
     "data": {
      "text/plain": [
       "90.0"
      ]
     },
     "execution_count": 22,
     "metadata": {},
     "output_type": "execute_result"
    }
   ],
   "source": [
    "# solução\n",
    "nota_limite_dos_20_porcento = filmes.nota_media.quantile(0.8)\n",
    "len(filmes)*0.2"
   ]
  },
  {
   "cell_type": "code",
   "execution_count": 23,
   "metadata": {},
   "outputs": [
    {
     "name": "stdout",
     "output_type": "stream",
     "text": [
      "20 porcento dos filmes tem nota maior que de 3.99\n"
     ]
    }
   ],
   "source": [
    "print(\"20 porcento dos filmes tem nota maior que de %.2f\" % nota_limite_dos_20_porcento)"
   ]
  },
  {
   "cell_type": "markdown",
   "metadata": {},
   "source": [
    "## Vamos separar a coluna `generos` em diversas colunas.\n",
    "\n",
    "- O código já está pronto."
   ]
  },
  {
   "cell_type": "code",
   "execution_count": 24,
   "metadata": {},
   "outputs": [
    {
     "name": "stdout",
     "output_type": "stream",
     "text": [
      "Temos 19 generos distintos\n"
     ]
    }
   ],
   "source": [
    "filmes['generos'] = filmes['generos'].str.replace('-', '')\n",
    "generos = filmes['generos'].str.get_dummies()\n",
    "print(\"Temos %d generos distintos\" % generos.shape[1])"
   ]
  },
  {
   "cell_type": "code",
   "execution_count": 25,
   "metadata": {},
   "outputs": [
    {
     "data": {
      "text/html": [
       "<div>\n",
       "<style scoped>\n",
       "    .dataframe tbody tr th:only-of-type {\n",
       "        vertical-align: middle;\n",
       "    }\n",
       "\n",
       "    .dataframe tbody tr th {\n",
       "        vertical-align: top;\n",
       "    }\n",
       "\n",
       "    .dataframe thead th {\n",
       "        text-align: right;\n",
       "    }\n",
       "</style>\n",
       "<table border=\"1\" class=\"dataframe\">\n",
       "  <thead>\n",
       "    <tr style=\"text-align: right;\">\n",
       "      <th></th>\n",
       "      <th>titulo</th>\n",
       "      <th>ano_de_lancamento</th>\n",
       "      <th>nota_media</th>\n",
       "      <th>total_de_votos</th>\n",
       "      <th>Action</th>\n",
       "      <th>Adventure</th>\n",
       "      <th>Animation</th>\n",
       "      <th>Children</th>\n",
       "      <th>Comedy</th>\n",
       "      <th>Crime</th>\n",
       "      <th>...</th>\n",
       "      <th>FilmNoir</th>\n",
       "      <th>Horror</th>\n",
       "      <th>IMAX</th>\n",
       "      <th>Musical</th>\n",
       "      <th>Mystery</th>\n",
       "      <th>Romance</th>\n",
       "      <th>SciFi</th>\n",
       "      <th>Thriller</th>\n",
       "      <th>War</th>\n",
       "      <th>Western</th>\n",
       "    </tr>\n",
       "    <tr>\n",
       "      <th>filmeId</th>\n",
       "      <th></th>\n",
       "      <th></th>\n",
       "      <th></th>\n",
       "      <th></th>\n",
       "      <th></th>\n",
       "      <th></th>\n",
       "      <th></th>\n",
       "      <th></th>\n",
       "      <th></th>\n",
       "      <th></th>\n",
       "      <th></th>\n",
       "      <th></th>\n",
       "      <th></th>\n",
       "      <th></th>\n",
       "      <th></th>\n",
       "      <th></th>\n",
       "      <th></th>\n",
       "      <th></th>\n",
       "      <th></th>\n",
       "      <th></th>\n",
       "      <th></th>\n",
       "    </tr>\n",
       "  </thead>\n",
       "  <tbody>\n",
       "    <tr>\n",
       "      <th>1</th>\n",
       "      <td>Toy Story (1995)</td>\n",
       "      <td>1995.0</td>\n",
       "      <td>3.920930</td>\n",
       "      <td>215.0</td>\n",
       "      <td>0</td>\n",
       "      <td>1</td>\n",
       "      <td>1</td>\n",
       "      <td>1</td>\n",
       "      <td>1</td>\n",
       "      <td>0</td>\n",
       "      <td>...</td>\n",
       "      <td>0</td>\n",
       "      <td>0</td>\n",
       "      <td>0</td>\n",
       "      <td>0</td>\n",
       "      <td>0</td>\n",
       "      <td>0</td>\n",
       "      <td>0</td>\n",
       "      <td>0</td>\n",
       "      <td>0</td>\n",
       "      <td>0</td>\n",
       "    </tr>\n",
       "    <tr>\n",
       "      <th>2</th>\n",
       "      <td>Jumanji (1995)</td>\n",
       "      <td>1995.0</td>\n",
       "      <td>3.431818</td>\n",
       "      <td>110.0</td>\n",
       "      <td>0</td>\n",
       "      <td>1</td>\n",
       "      <td>0</td>\n",
       "      <td>1</td>\n",
       "      <td>0</td>\n",
       "      <td>0</td>\n",
       "      <td>...</td>\n",
       "      <td>0</td>\n",
       "      <td>0</td>\n",
       "      <td>0</td>\n",
       "      <td>0</td>\n",
       "      <td>0</td>\n",
       "      <td>0</td>\n",
       "      <td>0</td>\n",
       "      <td>0</td>\n",
       "      <td>0</td>\n",
       "      <td>0</td>\n",
       "    </tr>\n",
       "    <tr>\n",
       "      <th>3</th>\n",
       "      <td>Grumpier Old Men (1995)</td>\n",
       "      <td>1995.0</td>\n",
       "      <td>3.259615</td>\n",
       "      <td>52.0</td>\n",
       "      <td>0</td>\n",
       "      <td>0</td>\n",
       "      <td>0</td>\n",
       "      <td>0</td>\n",
       "      <td>1</td>\n",
       "      <td>0</td>\n",
       "      <td>...</td>\n",
       "      <td>0</td>\n",
       "      <td>0</td>\n",
       "      <td>0</td>\n",
       "      <td>0</td>\n",
       "      <td>0</td>\n",
       "      <td>1</td>\n",
       "      <td>0</td>\n",
       "      <td>0</td>\n",
       "      <td>0</td>\n",
       "      <td>0</td>\n",
       "    </tr>\n",
       "    <tr>\n",
       "      <th>6</th>\n",
       "      <td>Heat (1995)</td>\n",
       "      <td>1995.0</td>\n",
       "      <td>3.946078</td>\n",
       "      <td>102.0</td>\n",
       "      <td>1</td>\n",
       "      <td>0</td>\n",
       "      <td>0</td>\n",
       "      <td>0</td>\n",
       "      <td>0</td>\n",
       "      <td>1</td>\n",
       "      <td>...</td>\n",
       "      <td>0</td>\n",
       "      <td>0</td>\n",
       "      <td>0</td>\n",
       "      <td>0</td>\n",
       "      <td>0</td>\n",
       "      <td>0</td>\n",
       "      <td>0</td>\n",
       "      <td>1</td>\n",
       "      <td>0</td>\n",
       "      <td>0</td>\n",
       "    </tr>\n",
       "    <tr>\n",
       "      <th>7</th>\n",
       "      <td>Sabrina (1995)</td>\n",
       "      <td>1995.0</td>\n",
       "      <td>3.185185</td>\n",
       "      <td>54.0</td>\n",
       "      <td>0</td>\n",
       "      <td>0</td>\n",
       "      <td>0</td>\n",
       "      <td>0</td>\n",
       "      <td>1</td>\n",
       "      <td>0</td>\n",
       "      <td>...</td>\n",
       "      <td>0</td>\n",
       "      <td>0</td>\n",
       "      <td>0</td>\n",
       "      <td>0</td>\n",
       "      <td>0</td>\n",
       "      <td>1</td>\n",
       "      <td>0</td>\n",
       "      <td>0</td>\n",
       "      <td>0</td>\n",
       "      <td>0</td>\n",
       "    </tr>\n",
       "  </tbody>\n",
       "</table>\n",
       "<p>5 rows × 23 columns</p>\n",
       "</div>"
      ],
      "text/plain": [
       "                          titulo  ano_de_lancamento  nota_media  \\\n",
       "filmeId                                                           \n",
       "1               Toy Story (1995)             1995.0    3.920930   \n",
       "2                 Jumanji (1995)             1995.0    3.431818   \n",
       "3        Grumpier Old Men (1995)             1995.0    3.259615   \n",
       "6                    Heat (1995)             1995.0    3.946078   \n",
       "7                 Sabrina (1995)             1995.0    3.185185   \n",
       "\n",
       "         total_de_votos  Action  Adventure  Animation  Children  Comedy  \\\n",
       "filmeId                                                                   \n",
       "1                 215.0       0          1          1         1       1   \n",
       "2                 110.0       0          1          0         1       0   \n",
       "3                  52.0       0          0          0         0       1   \n",
       "6                 102.0       1          0          0         0       0   \n",
       "7                  54.0       0          0          0         0       1   \n",
       "\n",
       "         Crime  ...  FilmNoir  Horror  IMAX  Musical  Mystery  Romance  SciFi  \\\n",
       "filmeId         ...                                                             \n",
       "1            0  ...         0       0     0        0        0        0      0   \n",
       "2            0  ...         0       0     0        0        0        0      0   \n",
       "3            0  ...         0       0     0        0        0        1      0   \n",
       "6            1  ...         0       0     0        0        0        0      0   \n",
       "7            0  ...         0       0     0        0        0        1      0   \n",
       "\n",
       "         Thriller  War  Western  \n",
       "filmeId                          \n",
       "1               0    0        0  \n",
       "2               0    0        0  \n",
       "3               0    0        0  \n",
       "6               1    0        0  \n",
       "7               0    0        0  \n",
       "\n",
       "[5 rows x 23 columns]"
      ]
     },
     "execution_count": 25,
     "metadata": {},
     "output_type": "execute_result"
    }
   ],
   "source": [
    "filmes = filmes.join(generos).drop(columns=['generos'], axis=1)\n",
    "filmes.head()"
   ]
  },
  {
   "cell_type": "markdown",
   "metadata": {},
   "source": [
    "## Pergunta: visualização de quantos filmes existem por genero\n",
    "\n",
    "- Para cada um dos generos você deve agrupar o número de filmes\n",
    "- Ordene as barras, na esquerda o genero com mais filmes, na direita o que tem menos filmes\n",
    "\n",
    "Dica:\n",
    "\n",
    "- Para fazer a soma de uma ou mais colunas individualmente você pode usar `seu_dataframe.sum()`\n",
    "- Não precisa usar o dataframe `filmes`, somente o dataframe `generos`\n",
    "- Em certas situações é mais fácil usar as funções de plotagem do pandas ao invés do seaborn"
   ]
  },
  {
   "cell_type": "code",
   "execution_count": 26,
   "metadata": {},
   "outputs": [
    {
     "data": {
      "text/plain": [
       "Documentary      2\n",
       "FilmNoir         4\n",
       "Western         12\n",
       "War             19\n",
       "Musical         21\n",
       "Horror          26\n",
       "IMAX            28\n",
       "Animation       32\n",
       "Mystery         38\n",
       "Children        47\n",
       "Fantasy         66\n",
       "Romance         85\n",
       "Crime           87\n",
       "SciFi           92\n",
       "Thriller       121\n",
       "Adventure      132\n",
       "Action         164\n",
       "Drama          166\n",
       "Comedy         181\n",
       "dtype: int64"
      ]
     },
     "execution_count": 26,
     "metadata": {},
     "output_type": "execute_result"
    }
   ],
   "source": [
    "filmes_por_genero = generos.sum().sort_values()\n",
    "filmes_por_genero"
   ]
  },
  {
   "cell_type": "code",
   "execution_count": 27,
   "metadata": {},
   "outputs": [
    {
     "data": {
      "text/plain": [
       "Text(0.5,0,'número de filmes')"
      ]
     },
     "execution_count": 27,
     "metadata": {},
     "output_type": "execute_result"
    },
    {
     "data": {
      "image/png": "[encoded data removed]",
      "text/plain": [
       "<Figure size 864x432 with 1 Axes>"
      ]
     },
     "metadata": {},
     "output_type": "display_data"
    }
   ],
   "source": [
    "# solução\n",
    "fig = plt.figure(figsize=(12,6))\n",
    "ax = plt.subplot()\n",
    "\n",
    "ax.barh(filmes_por_genero.keys(), filmes_por_genero)\n",
    "ax.set_title('Número de filmes por gênero')\n",
    "ax.set_xlabel('número de filmes')"
   ]
  },
  {
   "cell_type": "markdown",
   "metadata": {},
   "source": [
    "## Pergunta: Quais são os 5 generos com mais filmes?\n",
    "\n",
    "Dica:\n",
    "\n",
    "- `sort_values()` pode ordenar uma Series do pandas"
   ]
  },
  {
   "cell_type": "code",
   "execution_count": 28,
   "metadata": {},
   "outputs": [],
   "source": [
    "# solução\n",
    "top5_generos_em_quantidade_de_filmes = filmes_por_genero.tail(5).sort_values(ascending=False)"
   ]
  },
  {
   "cell_type": "code",
   "execution_count": 29,
   "metadata": {},
   "outputs": [
    {
     "name": "stdout",
     "output_type": "stream",
     "text": [
      "Comedy       181\n",
      "Drama        166\n",
      "Action       164\n",
      "Adventure    132\n",
      "Thriller     121\n",
      "dtype: int64\n"
     ]
    }
   ],
   "source": [
    "print(top5_generos_em_quantidade_de_filmes)"
   ]
  },
  {
   "cell_type": "markdown",
   "metadata": {},
   "source": [
    "## Pergunta: visualização de votos por genero\n",
    "\n",
    "- o código que gera os votos por genero já está pronto\n",
    "- ordene as categorias da mais visualizada para a menos visualizada\n",
    "- gere a visualização por genero"
   ]
  },
  {
   "cell_type": "code",
   "execution_count": 30,
   "metadata": {},
   "outputs": [
    {
     "data": {
      "text/html": [
       "<div>\n",
       "<style scoped>\n",
       "    .dataframe tbody tr th:only-of-type {\n",
       "        vertical-align: middle;\n",
       "    }\n",
       "\n",
       "    .dataframe tbody tr th {\n",
       "        vertical-align: top;\n",
       "    }\n",
       "\n",
       "    .dataframe thead th {\n",
       "        text-align: right;\n",
       "    }\n",
       "</style>\n",
       "<table border=\"1\" class=\"dataframe\">\n",
       "  <thead>\n",
       "    <tr style=\"text-align: right;\">\n",
       "      <th></th>\n",
       "      <th>Action</th>\n",
       "      <th>Adventure</th>\n",
       "      <th>Animation</th>\n",
       "      <th>Children</th>\n",
       "      <th>Comedy</th>\n",
       "      <th>Crime</th>\n",
       "      <th>Documentary</th>\n",
       "      <th>Drama</th>\n",
       "      <th>Fantasy</th>\n",
       "      <th>FilmNoir</th>\n",
       "      <th>Horror</th>\n",
       "      <th>IMAX</th>\n",
       "      <th>Musical</th>\n",
       "      <th>Mystery</th>\n",
       "      <th>Romance</th>\n",
       "      <th>SciFi</th>\n",
       "      <th>Thriller</th>\n",
       "      <th>War</th>\n",
       "      <th>Western</th>\n",
       "    </tr>\n",
       "  </thead>\n",
       "  <tbody>\n",
       "    <tr>\n",
       "      <th>0</th>\n",
       "      <td>0.0</td>\n",
       "      <td>215.0</td>\n",
       "      <td>215.0</td>\n",
       "      <td>215.0</td>\n",
       "      <td>215.0</td>\n",
       "      <td>0.0</td>\n",
       "      <td>0.0</td>\n",
       "      <td>0.0</td>\n",
       "      <td>215.0</td>\n",
       "      <td>0.0</td>\n",
       "      <td>0.0</td>\n",
       "      <td>0.0</td>\n",
       "      <td>0.0</td>\n",
       "      <td>0.0</td>\n",
       "      <td>0.0</td>\n",
       "      <td>0.0</td>\n",
       "      <td>0.0</td>\n",
       "      <td>0.0</td>\n",
       "      <td>0.0</td>\n",
       "    </tr>\n",
       "    <tr>\n",
       "      <th>1</th>\n",
       "      <td>0.0</td>\n",
       "      <td>110.0</td>\n",
       "      <td>0.0</td>\n",
       "      <td>110.0</td>\n",
       "      <td>0.0</td>\n",
       "      <td>0.0</td>\n",
       "      <td>0.0</td>\n",
       "      <td>0.0</td>\n",
       "      <td>110.0</td>\n",
       "      <td>0.0</td>\n",
       "      <td>0.0</td>\n",
       "      <td>0.0</td>\n",
       "      <td>0.0</td>\n",
       "      <td>0.0</td>\n",
       "      <td>0.0</td>\n",
       "      <td>0.0</td>\n",
       "      <td>0.0</td>\n",
       "      <td>0.0</td>\n",
       "      <td>0.0</td>\n",
       "    </tr>\n",
       "    <tr>\n",
       "      <th>2</th>\n",
       "      <td>0.0</td>\n",
       "      <td>0.0</td>\n",
       "      <td>0.0</td>\n",
       "      <td>0.0</td>\n",
       "      <td>52.0</td>\n",
       "      <td>0.0</td>\n",
       "      <td>0.0</td>\n",
       "      <td>0.0</td>\n",
       "      <td>0.0</td>\n",
       "      <td>0.0</td>\n",
       "      <td>0.0</td>\n",
       "      <td>0.0</td>\n",
       "      <td>0.0</td>\n",
       "      <td>0.0</td>\n",
       "      <td>52.0</td>\n",
       "      <td>0.0</td>\n",
       "      <td>0.0</td>\n",
       "      <td>0.0</td>\n",
       "      <td>0.0</td>\n",
       "    </tr>\n",
       "    <tr>\n",
       "      <th>3</th>\n",
       "      <td>102.0</td>\n",
       "      <td>0.0</td>\n",
       "      <td>0.0</td>\n",
       "      <td>0.0</td>\n",
       "      <td>0.0</td>\n",
       "      <td>102.0</td>\n",
       "      <td>0.0</td>\n",
       "      <td>0.0</td>\n",
       "      <td>0.0</td>\n",
       "      <td>0.0</td>\n",
       "      <td>0.0</td>\n",
       "      <td>0.0</td>\n",
       "      <td>0.0</td>\n",
       "      <td>0.0</td>\n",
       "      <td>0.0</td>\n",
       "      <td>0.0</td>\n",
       "      <td>102.0</td>\n",
       "      <td>0.0</td>\n",
       "      <td>0.0</td>\n",
       "    </tr>\n",
       "    <tr>\n",
       "      <th>4</th>\n",
       "      <td>0.0</td>\n",
       "      <td>0.0</td>\n",
       "      <td>0.0</td>\n",
       "      <td>0.0</td>\n",
       "      <td>54.0</td>\n",
       "      <td>0.0</td>\n",
       "      <td>0.0</td>\n",
       "      <td>0.0</td>\n",
       "      <td>0.0</td>\n",
       "      <td>0.0</td>\n",
       "      <td>0.0</td>\n",
       "      <td>0.0</td>\n",
       "      <td>0.0</td>\n",
       "      <td>0.0</td>\n",
       "      <td>54.0</td>\n",
       "      <td>0.0</td>\n",
       "      <td>0.0</td>\n",
       "      <td>0.0</td>\n",
       "      <td>0.0</td>\n",
       "    </tr>\n",
       "    <tr>\n",
       "      <th>5</th>\n",
       "      <td>132.0</td>\n",
       "      <td>132.0</td>\n",
       "      <td>0.0</td>\n",
       "      <td>0.0</td>\n",
       "      <td>0.0</td>\n",
       "      <td>0.0</td>\n",
       "      <td>0.0</td>\n",
       "      <td>0.0</td>\n",
       "      <td>0.0</td>\n",
       "      <td>0.0</td>\n",
       "      <td>0.0</td>\n",
       "      <td>0.0</td>\n",
       "      <td>0.0</td>\n",
       "      <td>0.0</td>\n",
       "      <td>0.0</td>\n",
       "      <td>0.0</td>\n",
       "      <td>132.0</td>\n",
       "      <td>0.0</td>\n",
       "      <td>0.0</td>\n",
       "    </tr>\n",
       "    <tr>\n",
       "      <th>6</th>\n",
       "      <td>0.0</td>\n",
       "      <td>0.0</td>\n",
       "      <td>0.0</td>\n",
       "      <td>0.0</td>\n",
       "      <td>70.0</td>\n",
       "      <td>0.0</td>\n",
       "      <td>0.0</td>\n",
       "      <td>70.0</td>\n",
       "      <td>0.0</td>\n",
       "      <td>0.0</td>\n",
       "      <td>0.0</td>\n",
       "      <td>0.0</td>\n",
       "      <td>0.0</td>\n",
       "      <td>0.0</td>\n",
       "      <td>70.0</td>\n",
       "      <td>0.0</td>\n",
       "      <td>0.0</td>\n",
       "      <td>0.0</td>\n",
       "      <td>0.0</td>\n",
       "    </tr>\n",
       "    <tr>\n",
       "      <th>7</th>\n",
       "      <td>0.0</td>\n",
       "      <td>0.0</td>\n",
       "      <td>0.0</td>\n",
       "      <td>0.0</td>\n",
       "      <td>0.0</td>\n",
       "      <td>82.0</td>\n",
       "      <td>0.0</td>\n",
       "      <td>82.0</td>\n",
       "      <td>0.0</td>\n",
       "      <td>0.0</td>\n",
       "      <td>0.0</td>\n",
       "      <td>0.0</td>\n",
       "      <td>0.0</td>\n",
       "      <td>0.0</td>\n",
       "      <td>0.0</td>\n",
       "      <td>0.0</td>\n",
       "      <td>0.0</td>\n",
       "      <td>0.0</td>\n",
       "      <td>0.0</td>\n",
       "    </tr>\n",
       "    <tr>\n",
       "      <th>8</th>\n",
       "      <td>0.0</td>\n",
       "      <td>0.0</td>\n",
       "      <td>0.0</td>\n",
       "      <td>0.0</td>\n",
       "      <td>0.0</td>\n",
       "      <td>0.0</td>\n",
       "      <td>0.0</td>\n",
       "      <td>67.0</td>\n",
       "      <td>0.0</td>\n",
       "      <td>0.0</td>\n",
       "      <td>0.0</td>\n",
       "      <td>0.0</td>\n",
       "      <td>0.0</td>\n",
       "      <td>0.0</td>\n",
       "      <td>67.0</td>\n",
       "      <td>0.0</td>\n",
       "      <td>0.0</td>\n",
       "      <td>0.0</td>\n",
       "      <td>0.0</td>\n",
       "    </tr>\n",
       "    <tr>\n",
       "      <th>9</th>\n",
       "      <td>0.0</td>\n",
       "      <td>0.0</td>\n",
       "      <td>0.0</td>\n",
       "      <td>0.0</td>\n",
       "      <td>88.0</td>\n",
       "      <td>0.0</td>\n",
       "      <td>0.0</td>\n",
       "      <td>0.0</td>\n",
       "      <td>0.0</td>\n",
       "      <td>0.0</td>\n",
       "      <td>0.0</td>\n",
       "      <td>0.0</td>\n",
       "      <td>0.0</td>\n",
       "      <td>0.0</td>\n",
       "      <td>0.0</td>\n",
       "      <td>0.0</td>\n",
       "      <td>0.0</td>\n",
       "      <td>0.0</td>\n",
       "      <td>0.0</td>\n",
       "    </tr>\n",
       "    <tr>\n",
       "      <th>10</th>\n",
       "      <td>0.0</td>\n",
       "      <td>0.0</td>\n",
       "      <td>0.0</td>\n",
       "      <td>0.0</td>\n",
       "      <td>89.0</td>\n",
       "      <td>89.0</td>\n",
       "      <td>0.0</td>\n",
       "      <td>0.0</td>\n",
       "      <td>0.0</td>\n",
       "      <td>0.0</td>\n",
       "      <td>0.0</td>\n",
       "      <td>0.0</td>\n",
       "      <td>0.0</td>\n",
       "      <td>0.0</td>\n",
       "      <td>0.0</td>\n",
       "      <td>0.0</td>\n",
       "      <td>89.0</td>\n",
       "      <td>0.0</td>\n",
       "      <td>0.0</td>\n",
       "    </tr>\n",
       "    <tr>\n",
       "      <th>11</th>\n",
       "      <td>0.0</td>\n",
       "      <td>0.0</td>\n",
       "      <td>0.0</td>\n",
       "      <td>0.0</td>\n",
       "      <td>0.0</td>\n",
       "      <td>0.0</td>\n",
       "      <td>0.0</td>\n",
       "      <td>76.0</td>\n",
       "      <td>0.0</td>\n",
       "      <td>0.0</td>\n",
       "      <td>0.0</td>\n",
       "      <td>0.0</td>\n",
       "      <td>0.0</td>\n",
       "      <td>0.0</td>\n",
       "      <td>76.0</td>\n",
       "      <td>0.0</td>\n",
       "      <td>0.0</td>\n",
       "      <td>0.0</td>\n",
       "      <td>0.0</td>\n",
       "    </tr>\n",
       "    <tr>\n",
       "      <th>12</th>\n",
       "      <td>0.0</td>\n",
       "      <td>0.0</td>\n",
       "      <td>0.0</td>\n",
       "      <td>0.0</td>\n",
       "      <td>0.0</td>\n",
       "      <td>0.0</td>\n",
       "      <td>0.0</td>\n",
       "      <td>0.0</td>\n",
       "      <td>0.0</td>\n",
       "      <td>0.0</td>\n",
       "      <td>0.0</td>\n",
       "      <td>0.0</td>\n",
       "      <td>0.0</td>\n",
       "      <td>177.0</td>\n",
       "      <td>0.0</td>\n",
       "      <td>177.0</td>\n",
       "      <td>177.0</td>\n",
       "      <td>0.0</td>\n",
       "      <td>0.0</td>\n",
       "    </tr>\n",
       "    <tr>\n",
       "      <th>13</th>\n",
       "      <td>0.0</td>\n",
       "      <td>0.0</td>\n",
       "      <td>0.0</td>\n",
       "      <td>128.0</td>\n",
       "      <td>0.0</td>\n",
       "      <td>0.0</td>\n",
       "      <td>0.0</td>\n",
       "      <td>128.0</td>\n",
       "      <td>0.0</td>\n",
       "      <td>0.0</td>\n",
       "      <td>0.0</td>\n",
       "      <td>0.0</td>\n",
       "      <td>0.0</td>\n",
       "      <td>0.0</td>\n",
       "      <td>0.0</td>\n",
       "      <td>0.0</td>\n",
       "      <td>0.0</td>\n",
       "      <td>0.0</td>\n",
       "      <td>0.0</td>\n",
       "    </tr>\n",
       "    <tr>\n",
       "      <th>14</th>\n",
       "      <td>0.0</td>\n",
       "      <td>0.0</td>\n",
       "      <td>0.0</td>\n",
       "      <td>0.0</td>\n",
       "      <td>0.0</td>\n",
       "      <td>67.0</td>\n",
       "      <td>0.0</td>\n",
       "      <td>67.0</td>\n",
       "      <td>0.0</td>\n",
       "      <td>0.0</td>\n",
       "      <td>0.0</td>\n",
       "      <td>0.0</td>\n",
       "      <td>0.0</td>\n",
       "      <td>0.0</td>\n",
       "      <td>0.0</td>\n",
       "      <td>0.0</td>\n",
       "      <td>0.0</td>\n",
       "      <td>0.0</td>\n",
       "      <td>0.0</td>\n",
       "    </tr>\n",
       "    <tr>\n",
       "      <th>15</th>\n",
       "      <td>0.0</td>\n",
       "      <td>0.0</td>\n",
       "      <td>0.0</td>\n",
       "      <td>0.0</td>\n",
       "      <td>104.0</td>\n",
       "      <td>0.0</td>\n",
       "      <td>0.0</td>\n",
       "      <td>0.0</td>\n",
       "      <td>0.0</td>\n",
       "      <td>0.0</td>\n",
       "      <td>0.0</td>\n",
       "      <td>0.0</td>\n",
       "      <td>0.0</td>\n",
       "      <td>0.0</td>\n",
       "      <td>104.0</td>\n",
       "      <td>0.0</td>\n",
       "      <td>0.0</td>\n",
       "      <td>0.0</td>\n",
       "      <td>0.0</td>\n",
       "    </tr>\n",
       "    <tr>\n",
       "      <th>16</th>\n",
       "      <td>0.0</td>\n",
       "      <td>0.0</td>\n",
       "      <td>0.0</td>\n",
       "      <td>0.0</td>\n",
       "      <td>0.0</td>\n",
       "      <td>0.0</td>\n",
       "      <td>0.0</td>\n",
       "      <td>0.0</td>\n",
       "      <td>0.0</td>\n",
       "      <td>0.0</td>\n",
       "      <td>0.0</td>\n",
       "      <td>0.0</td>\n",
       "      <td>0.0</td>\n",
       "      <td>203.0</td>\n",
       "      <td>0.0</td>\n",
       "      <td>0.0</td>\n",
       "      <td>203.0</td>\n",
       "      <td>0.0</td>\n",
       "      <td>0.0</td>\n",
       "    </tr>\n",
       "    <tr>\n",
       "      <th>17</th>\n",
       "      <td>0.0</td>\n",
       "      <td>0.0</td>\n",
       "      <td>68.0</td>\n",
       "      <td>68.0</td>\n",
       "      <td>0.0</td>\n",
       "      <td>0.0</td>\n",
       "      <td>0.0</td>\n",
       "      <td>68.0</td>\n",
       "      <td>0.0</td>\n",
       "      <td>0.0</td>\n",
       "      <td>0.0</td>\n",
       "      <td>0.0</td>\n",
       "      <td>68.0</td>\n",
       "      <td>0.0</td>\n",
       "      <td>68.0</td>\n",
       "      <td>0.0</td>\n",
       "      <td>0.0</td>\n",
       "      <td>0.0</td>\n",
       "      <td>0.0</td>\n",
       "    </tr>\n",
       "    <tr>\n",
       "      <th>18</th>\n",
       "      <td>0.0</td>\n",
       "      <td>0.0</td>\n",
       "      <td>0.0</td>\n",
       "      <td>0.0</td>\n",
       "      <td>0.0</td>\n",
       "      <td>204.0</td>\n",
       "      <td>0.0</td>\n",
       "      <td>0.0</td>\n",
       "      <td>0.0</td>\n",
       "      <td>0.0</td>\n",
       "      <td>0.0</td>\n",
       "      <td>0.0</td>\n",
       "      <td>0.0</td>\n",
       "      <td>204.0</td>\n",
       "      <td>0.0</td>\n",
       "      <td>0.0</td>\n",
       "      <td>204.0</td>\n",
       "      <td>0.0</td>\n",
       "      <td>0.0</td>\n",
       "    </tr>\n",
       "    <tr>\n",
       "      <th>19</th>\n",
       "      <td>0.0</td>\n",
       "      <td>0.0</td>\n",
       "      <td>0.0</td>\n",
       "      <td>0.0</td>\n",
       "      <td>0.0</td>\n",
       "      <td>0.0</td>\n",
       "      <td>0.0</td>\n",
       "      <td>80.0</td>\n",
       "      <td>0.0</td>\n",
       "      <td>0.0</td>\n",
       "      <td>0.0</td>\n",
       "      <td>0.0</td>\n",
       "      <td>0.0</td>\n",
       "      <td>0.0</td>\n",
       "      <td>0.0</td>\n",
       "      <td>0.0</td>\n",
       "      <td>0.0</td>\n",
       "      <td>0.0</td>\n",
       "      <td>0.0</td>\n",
       "    </tr>\n",
       "    <tr>\n",
       "      <th>20</th>\n",
       "      <td>55.0</td>\n",
       "      <td>0.0</td>\n",
       "      <td>0.0</td>\n",
       "      <td>0.0</td>\n",
       "      <td>55.0</td>\n",
       "      <td>0.0</td>\n",
       "      <td>0.0</td>\n",
       "      <td>0.0</td>\n",
       "      <td>0.0</td>\n",
       "      <td>0.0</td>\n",
       "      <td>55.0</td>\n",
       "      <td>0.0</td>\n",
       "      <td>0.0</td>\n",
       "      <td>0.0</td>\n",
       "      <td>0.0</td>\n",
       "      <td>0.0</td>\n",
       "      <td>55.0</td>\n",
       "      <td>0.0</td>\n",
       "      <td>0.0</td>\n",
       "    </tr>\n",
       "    <tr>\n",
       "      <th>21</th>\n",
       "      <td>84.0</td>\n",
       "      <td>84.0</td>\n",
       "      <td>0.0</td>\n",
       "      <td>0.0</td>\n",
       "      <td>0.0</td>\n",
       "      <td>0.0</td>\n",
       "      <td>0.0</td>\n",
       "      <td>0.0</td>\n",
       "      <td>0.0</td>\n",
       "      <td>0.0</td>\n",
       "      <td>0.0</td>\n",
       "      <td>0.0</td>\n",
       "      <td>0.0</td>\n",
       "      <td>0.0</td>\n",
       "      <td>0.0</td>\n",
       "      <td>0.0</td>\n",
       "      <td>84.0</td>\n",
       "      <td>0.0</td>\n",
       "      <td>0.0</td>\n",
       "    </tr>\n",
       "    <tr>\n",
       "      <th>22</th>\n",
       "      <td>0.0</td>\n",
       "      <td>0.0</td>\n",
       "      <td>0.0</td>\n",
       "      <td>0.0</td>\n",
       "      <td>99.0</td>\n",
       "      <td>0.0</td>\n",
       "      <td>0.0</td>\n",
       "      <td>0.0</td>\n",
       "      <td>0.0</td>\n",
       "      <td>0.0</td>\n",
       "      <td>0.0</td>\n",
       "      <td>0.0</td>\n",
       "      <td>0.0</td>\n",
       "      <td>0.0</td>\n",
       "      <td>0.0</td>\n",
       "      <td>0.0</td>\n",
       "      <td>0.0</td>\n",
       "      <td>0.0</td>\n",
       "      <td>0.0</td>\n",
       "    </tr>\n",
       "    <tr>\n",
       "      <th>23</th>\n",
       "      <td>237.0</td>\n",
       "      <td>0.0</td>\n",
       "      <td>0.0</td>\n",
       "      <td>0.0</td>\n",
       "      <td>0.0</td>\n",
       "      <td>0.0</td>\n",
       "      <td>0.0</td>\n",
       "      <td>237.0</td>\n",
       "      <td>0.0</td>\n",
       "      <td>0.0</td>\n",
       "      <td>0.0</td>\n",
       "      <td>0.0</td>\n",
       "      <td>0.0</td>\n",
       "      <td>0.0</td>\n",
       "      <td>0.0</td>\n",
       "      <td>0.0</td>\n",
       "      <td>0.0</td>\n",
       "      <td>237.0</td>\n",
       "      <td>0.0</td>\n",
       "    </tr>\n",
       "    <tr>\n",
       "      <th>24</th>\n",
       "      <td>0.0</td>\n",
       "      <td>0.0</td>\n",
       "      <td>0.0</td>\n",
       "      <td>0.0</td>\n",
       "      <td>0.0</td>\n",
       "      <td>104.0</td>\n",
       "      <td>0.0</td>\n",
       "      <td>104.0</td>\n",
       "      <td>0.0</td>\n",
       "      <td>0.0</td>\n",
       "      <td>0.0</td>\n",
       "      <td>0.0</td>\n",
       "      <td>0.0</td>\n",
       "      <td>0.0</td>\n",
       "      <td>0.0</td>\n",
       "      <td>0.0</td>\n",
       "      <td>104.0</td>\n",
       "      <td>0.0</td>\n",
       "      <td>0.0</td>\n",
       "    </tr>\n",
       "    <tr>\n",
       "      <th>25</th>\n",
       "      <td>0.0</td>\n",
       "      <td>0.0</td>\n",
       "      <td>0.0</td>\n",
       "      <td>0.0</td>\n",
       "      <td>86.0</td>\n",
       "      <td>0.0</td>\n",
       "      <td>0.0</td>\n",
       "      <td>0.0</td>\n",
       "      <td>0.0</td>\n",
       "      <td>0.0</td>\n",
       "      <td>0.0</td>\n",
       "      <td>0.0</td>\n",
       "      <td>0.0</td>\n",
       "      <td>0.0</td>\n",
       "      <td>0.0</td>\n",
       "      <td>0.0</td>\n",
       "      <td>0.0</td>\n",
       "      <td>0.0</td>\n",
       "      <td>0.0</td>\n",
       "    </tr>\n",
       "    <tr>\n",
       "      <th>26</th>\n",
       "      <td>51.0</td>\n",
       "      <td>0.0</td>\n",
       "      <td>0.0</td>\n",
       "      <td>0.0</td>\n",
       "      <td>51.0</td>\n",
       "      <td>51.0</td>\n",
       "      <td>0.0</td>\n",
       "      <td>51.0</td>\n",
       "      <td>0.0</td>\n",
       "      <td>0.0</td>\n",
       "      <td>0.0</td>\n",
       "      <td>0.0</td>\n",
       "      <td>0.0</td>\n",
       "      <td>0.0</td>\n",
       "      <td>0.0</td>\n",
       "      <td>0.0</td>\n",
       "      <td>51.0</td>\n",
       "      <td>0.0</td>\n",
       "      <td>0.0</td>\n",
       "    </tr>\n",
       "    <tr>\n",
       "      <th>27</th>\n",
       "      <td>0.0</td>\n",
       "      <td>201.0</td>\n",
       "      <td>0.0</td>\n",
       "      <td>0.0</td>\n",
       "      <td>0.0</td>\n",
       "      <td>0.0</td>\n",
       "      <td>0.0</td>\n",
       "      <td>201.0</td>\n",
       "      <td>0.0</td>\n",
       "      <td>0.0</td>\n",
       "      <td>0.0</td>\n",
       "      <td>201.0</td>\n",
       "      <td>0.0</td>\n",
       "      <td>0.0</td>\n",
       "      <td>0.0</td>\n",
       "      <td>0.0</td>\n",
       "      <td>0.0</td>\n",
       "      <td>0.0</td>\n",
       "      <td>0.0</td>\n",
       "    </tr>\n",
       "    <tr>\n",
       "      <th>28</th>\n",
       "      <td>137.0</td>\n",
       "      <td>137.0</td>\n",
       "      <td>0.0</td>\n",
       "      <td>0.0</td>\n",
       "      <td>137.0</td>\n",
       "      <td>137.0</td>\n",
       "      <td>0.0</td>\n",
       "      <td>0.0</td>\n",
       "      <td>0.0</td>\n",
       "      <td>0.0</td>\n",
       "      <td>0.0</td>\n",
       "      <td>0.0</td>\n",
       "      <td>0.0</td>\n",
       "      <td>0.0</td>\n",
       "      <td>0.0</td>\n",
       "      <td>0.0</td>\n",
       "      <td>0.0</td>\n",
       "      <td>0.0</td>\n",
       "      <td>0.0</td>\n",
       "    </tr>\n",
       "    <tr>\n",
       "      <th>29</th>\n",
       "      <td>0.0</td>\n",
       "      <td>62.0</td>\n",
       "      <td>0.0</td>\n",
       "      <td>62.0</td>\n",
       "      <td>0.0</td>\n",
       "      <td>0.0</td>\n",
       "      <td>0.0</td>\n",
       "      <td>0.0</td>\n",
       "      <td>0.0</td>\n",
       "      <td>0.0</td>\n",
       "      <td>0.0</td>\n",
       "      <td>0.0</td>\n",
       "      <td>0.0</td>\n",
       "      <td>0.0</td>\n",
       "      <td>0.0</td>\n",
       "      <td>0.0</td>\n",
       "      <td>0.0</td>\n",
       "      <td>0.0</td>\n",
       "      <td>0.0</td>\n",
       "    </tr>\n",
       "    <tr>\n",
       "      <th>...</th>\n",
       "      <td>...</td>\n",
       "      <td>...</td>\n",
       "      <td>...</td>\n",
       "      <td>...</td>\n",
       "      <td>...</td>\n",
       "      <td>...</td>\n",
       "      <td>...</td>\n",
       "      <td>...</td>\n",
       "      <td>...</td>\n",
       "      <td>...</td>\n",
       "      <td>...</td>\n",
       "      <td>...</td>\n",
       "      <td>...</td>\n",
       "      <td>...</td>\n",
       "      <td>...</td>\n",
       "      <td>...</td>\n",
       "      <td>...</td>\n",
       "      <td>...</td>\n",
       "      <td>...</td>\n",
       "    </tr>\n",
       "    <tr>\n",
       "      <th>420</th>\n",
       "      <td>54.0</td>\n",
       "      <td>0.0</td>\n",
       "      <td>54.0</td>\n",
       "      <td>54.0</td>\n",
       "      <td>54.0</td>\n",
       "      <td>0.0</td>\n",
       "      <td>0.0</td>\n",
       "      <td>0.0</td>\n",
       "      <td>0.0</td>\n",
       "      <td>0.0</td>\n",
       "      <td>0.0</td>\n",
       "      <td>54.0</td>\n",
       "      <td>0.0</td>\n",
       "      <td>0.0</td>\n",
       "      <td>0.0</td>\n",
       "      <td>0.0</td>\n",
       "      <td>0.0</td>\n",
       "      <td>0.0</td>\n",
       "      <td>0.0</td>\n",
       "    </tr>\n",
       "    <tr>\n",
       "      <th>421</th>\n",
       "      <td>0.0</td>\n",
       "      <td>104.0</td>\n",
       "      <td>104.0</td>\n",
       "      <td>104.0</td>\n",
       "      <td>0.0</td>\n",
       "      <td>0.0</td>\n",
       "      <td>0.0</td>\n",
       "      <td>0.0</td>\n",
       "      <td>0.0</td>\n",
       "      <td>0.0</td>\n",
       "      <td>0.0</td>\n",
       "      <td>0.0</td>\n",
       "      <td>0.0</td>\n",
       "      <td>0.0</td>\n",
       "      <td>104.0</td>\n",
       "      <td>104.0</td>\n",
       "      <td>0.0</td>\n",
       "      <td>0.0</td>\n",
       "      <td>0.0</td>\n",
       "    </tr>\n",
       "    <tr>\n",
       "      <th>422</th>\n",
       "      <td>0.0</td>\n",
       "      <td>0.0</td>\n",
       "      <td>0.0</td>\n",
       "      <td>0.0</td>\n",
       "      <td>0.0</td>\n",
       "      <td>71.0</td>\n",
       "      <td>0.0</td>\n",
       "      <td>71.0</td>\n",
       "      <td>0.0</td>\n",
       "      <td>0.0</td>\n",
       "      <td>0.0</td>\n",
       "      <td>0.0</td>\n",
       "      <td>0.0</td>\n",
       "      <td>0.0</td>\n",
       "      <td>71.0</td>\n",
       "      <td>0.0</td>\n",
       "      <td>0.0</td>\n",
       "      <td>0.0</td>\n",
       "      <td>0.0</td>\n",
       "    </tr>\n",
       "    <tr>\n",
       "      <th>423</th>\n",
       "      <td>88.0</td>\n",
       "      <td>0.0</td>\n",
       "      <td>0.0</td>\n",
       "      <td>0.0</td>\n",
       "      <td>0.0</td>\n",
       "      <td>0.0</td>\n",
       "      <td>0.0</td>\n",
       "      <td>88.0</td>\n",
       "      <td>0.0</td>\n",
       "      <td>0.0</td>\n",
       "      <td>0.0</td>\n",
       "      <td>0.0</td>\n",
       "      <td>0.0</td>\n",
       "      <td>0.0</td>\n",
       "      <td>0.0</td>\n",
       "      <td>0.0</td>\n",
       "      <td>0.0</td>\n",
       "      <td>88.0</td>\n",
       "      <td>0.0</td>\n",
       "    </tr>\n",
       "    <tr>\n",
       "      <th>424</th>\n",
       "      <td>59.0</td>\n",
       "      <td>59.0</td>\n",
       "      <td>0.0</td>\n",
       "      <td>0.0</td>\n",
       "      <td>0.0</td>\n",
       "      <td>0.0</td>\n",
       "      <td>0.0</td>\n",
       "      <td>0.0</td>\n",
       "      <td>0.0</td>\n",
       "      <td>0.0</td>\n",
       "      <td>0.0</td>\n",
       "      <td>59.0</td>\n",
       "      <td>0.0</td>\n",
       "      <td>0.0</td>\n",
       "      <td>0.0</td>\n",
       "      <td>59.0</td>\n",
       "      <td>0.0</td>\n",
       "      <td>0.0</td>\n",
       "      <td>0.0</td>\n",
       "    </tr>\n",
       "    <tr>\n",
       "      <th>425</th>\n",
       "      <td>0.0</td>\n",
       "      <td>105.0</td>\n",
       "      <td>105.0</td>\n",
       "      <td>105.0</td>\n",
       "      <td>0.0</td>\n",
       "      <td>0.0</td>\n",
       "      <td>0.0</td>\n",
       "      <td>105.0</td>\n",
       "      <td>0.0</td>\n",
       "      <td>0.0</td>\n",
       "      <td>0.0</td>\n",
       "      <td>0.0</td>\n",
       "      <td>0.0</td>\n",
       "      <td>0.0</td>\n",
       "      <td>0.0</td>\n",
       "      <td>0.0</td>\n",
       "      <td>0.0</td>\n",
       "      <td>0.0</td>\n",
       "      <td>0.0</td>\n",
       "    </tr>\n",
       "    <tr>\n",
       "      <th>426</th>\n",
       "      <td>0.0</td>\n",
       "      <td>0.0</td>\n",
       "      <td>0.0</td>\n",
       "      <td>0.0</td>\n",
       "      <td>76.0</td>\n",
       "      <td>76.0</td>\n",
       "      <td>0.0</td>\n",
       "      <td>0.0</td>\n",
       "      <td>0.0</td>\n",
       "      <td>0.0</td>\n",
       "      <td>0.0</td>\n",
       "      <td>0.0</td>\n",
       "      <td>0.0</td>\n",
       "      <td>0.0</td>\n",
       "      <td>0.0</td>\n",
       "      <td>0.0</td>\n",
       "      <td>0.0</td>\n",
       "      <td>0.0</td>\n",
       "      <td>0.0</td>\n",
       "    </tr>\n",
       "    <tr>\n",
       "      <th>427</th>\n",
       "      <td>0.0</td>\n",
       "      <td>58.0</td>\n",
       "      <td>0.0</td>\n",
       "      <td>0.0</td>\n",
       "      <td>0.0</td>\n",
       "      <td>0.0</td>\n",
       "      <td>0.0</td>\n",
       "      <td>0.0</td>\n",
       "      <td>58.0</td>\n",
       "      <td>0.0</td>\n",
       "      <td>0.0</td>\n",
       "      <td>58.0</td>\n",
       "      <td>0.0</td>\n",
       "      <td>58.0</td>\n",
       "      <td>58.0</td>\n",
       "      <td>0.0</td>\n",
       "      <td>0.0</td>\n",
       "      <td>0.0</td>\n",
       "      <td>0.0</td>\n",
       "    </tr>\n",
       "    <tr>\n",
       "      <th>428</th>\n",
       "      <td>0.0</td>\n",
       "      <td>0.0</td>\n",
       "      <td>0.0</td>\n",
       "      <td>0.0</td>\n",
       "      <td>0.0</td>\n",
       "      <td>0.0</td>\n",
       "      <td>0.0</td>\n",
       "      <td>0.0</td>\n",
       "      <td>0.0</td>\n",
       "      <td>0.0</td>\n",
       "      <td>0.0</td>\n",
       "      <td>0.0</td>\n",
       "      <td>0.0</td>\n",
       "      <td>65.0</td>\n",
       "      <td>0.0</td>\n",
       "      <td>65.0</td>\n",
       "      <td>65.0</td>\n",
       "      <td>0.0</td>\n",
       "      <td>0.0</td>\n",
       "    </tr>\n",
       "    <tr>\n",
       "      <th>429</th>\n",
       "      <td>53.0</td>\n",
       "      <td>0.0</td>\n",
       "      <td>0.0</td>\n",
       "      <td>0.0</td>\n",
       "      <td>53.0</td>\n",
       "      <td>0.0</td>\n",
       "      <td>0.0</td>\n",
       "      <td>0.0</td>\n",
       "      <td>0.0</td>\n",
       "      <td>0.0</td>\n",
       "      <td>53.0</td>\n",
       "      <td>0.0</td>\n",
       "      <td>0.0</td>\n",
       "      <td>0.0</td>\n",
       "      <td>0.0</td>\n",
       "      <td>0.0</td>\n",
       "      <td>0.0</td>\n",
       "      <td>0.0</td>\n",
       "      <td>0.0</td>\n",
       "    </tr>\n",
       "    <tr>\n",
       "      <th>430</th>\n",
       "      <td>97.0</td>\n",
       "      <td>97.0</td>\n",
       "      <td>0.0</td>\n",
       "      <td>0.0</td>\n",
       "      <td>0.0</td>\n",
       "      <td>0.0</td>\n",
       "      <td>0.0</td>\n",
       "      <td>0.0</td>\n",
       "      <td>0.0</td>\n",
       "      <td>0.0</td>\n",
       "      <td>0.0</td>\n",
       "      <td>97.0</td>\n",
       "      <td>0.0</td>\n",
       "      <td>0.0</td>\n",
       "      <td>0.0</td>\n",
       "      <td>97.0</td>\n",
       "      <td>0.0</td>\n",
       "      <td>0.0</td>\n",
       "      <td>0.0</td>\n",
       "    </tr>\n",
       "    <tr>\n",
       "      <th>431</th>\n",
       "      <td>58.0</td>\n",
       "      <td>0.0</td>\n",
       "      <td>0.0</td>\n",
       "      <td>0.0</td>\n",
       "      <td>0.0</td>\n",
       "      <td>58.0</td>\n",
       "      <td>0.0</td>\n",
       "      <td>0.0</td>\n",
       "      <td>0.0</td>\n",
       "      <td>0.0</td>\n",
       "      <td>0.0</td>\n",
       "      <td>0.0</td>\n",
       "      <td>0.0</td>\n",
       "      <td>58.0</td>\n",
       "      <td>0.0</td>\n",
       "      <td>0.0</td>\n",
       "      <td>58.0</td>\n",
       "      <td>0.0</td>\n",
       "      <td>0.0</td>\n",
       "    </tr>\n",
       "    <tr>\n",
       "      <th>432</th>\n",
       "      <td>0.0</td>\n",
       "      <td>0.0</td>\n",
       "      <td>0.0</td>\n",
       "      <td>0.0</td>\n",
       "      <td>0.0</td>\n",
       "      <td>0.0</td>\n",
       "      <td>0.0</td>\n",
       "      <td>67.0</td>\n",
       "      <td>0.0</td>\n",
       "      <td>0.0</td>\n",
       "      <td>0.0</td>\n",
       "      <td>0.0</td>\n",
       "      <td>0.0</td>\n",
       "      <td>67.0</td>\n",
       "      <td>0.0</td>\n",
       "      <td>0.0</td>\n",
       "      <td>67.0</td>\n",
       "      <td>0.0</td>\n",
       "      <td>0.0</td>\n",
       "    </tr>\n",
       "    <tr>\n",
       "      <th>433</th>\n",
       "      <td>0.0</td>\n",
       "      <td>53.0</td>\n",
       "      <td>53.0</td>\n",
       "      <td>53.0</td>\n",
       "      <td>0.0</td>\n",
       "      <td>0.0</td>\n",
       "      <td>0.0</td>\n",
       "      <td>0.0</td>\n",
       "      <td>53.0</td>\n",
       "      <td>0.0</td>\n",
       "      <td>0.0</td>\n",
       "      <td>53.0</td>\n",
       "      <td>0.0</td>\n",
       "      <td>0.0</td>\n",
       "      <td>0.0</td>\n",
       "      <td>0.0</td>\n",
       "      <td>0.0</td>\n",
       "      <td>0.0</td>\n",
       "      <td>0.0</td>\n",
       "    </tr>\n",
       "    <tr>\n",
       "      <th>434</th>\n",
       "      <td>0.0</td>\n",
       "      <td>55.0</td>\n",
       "      <td>55.0</td>\n",
       "      <td>55.0</td>\n",
       "      <td>55.0</td>\n",
       "      <td>0.0</td>\n",
       "      <td>0.0</td>\n",
       "      <td>0.0</td>\n",
       "      <td>55.0</td>\n",
       "      <td>0.0</td>\n",
       "      <td>0.0</td>\n",
       "      <td>55.0</td>\n",
       "      <td>0.0</td>\n",
       "      <td>0.0</td>\n",
       "      <td>0.0</td>\n",
       "      <td>0.0</td>\n",
       "      <td>0.0</td>\n",
       "      <td>0.0</td>\n",
       "      <td>0.0</td>\n",
       "    </tr>\n",
       "    <tr>\n",
       "      <th>435</th>\n",
       "      <td>143.0</td>\n",
       "      <td>0.0</td>\n",
       "      <td>0.0</td>\n",
       "      <td>0.0</td>\n",
       "      <td>0.0</td>\n",
       "      <td>143.0</td>\n",
       "      <td>0.0</td>\n",
       "      <td>143.0</td>\n",
       "      <td>0.0</td>\n",
       "      <td>0.0</td>\n",
       "      <td>0.0</td>\n",
       "      <td>143.0</td>\n",
       "      <td>0.0</td>\n",
       "      <td>143.0</td>\n",
       "      <td>0.0</td>\n",
       "      <td>143.0</td>\n",
       "      <td>143.0</td>\n",
       "      <td>0.0</td>\n",
       "      <td>0.0</td>\n",
       "    </tr>\n",
       "    <tr>\n",
       "      <th>436</th>\n",
       "      <td>0.0</td>\n",
       "      <td>0.0</td>\n",
       "      <td>0.0</td>\n",
       "      <td>0.0</td>\n",
       "      <td>0.0</td>\n",
       "      <td>0.0</td>\n",
       "      <td>0.0</td>\n",
       "      <td>57.0</td>\n",
       "      <td>0.0</td>\n",
       "      <td>0.0</td>\n",
       "      <td>0.0</td>\n",
       "      <td>0.0</td>\n",
       "      <td>0.0</td>\n",
       "      <td>0.0</td>\n",
       "      <td>0.0</td>\n",
       "      <td>0.0</td>\n",
       "      <td>0.0</td>\n",
       "      <td>0.0</td>\n",
       "      <td>0.0</td>\n",
       "    </tr>\n",
       "    <tr>\n",
       "      <th>437</th>\n",
       "      <td>0.0</td>\n",
       "      <td>0.0</td>\n",
       "      <td>0.0</td>\n",
       "      <td>0.0</td>\n",
       "      <td>0.0</td>\n",
       "      <td>0.0</td>\n",
       "      <td>0.0</td>\n",
       "      <td>58.0</td>\n",
       "      <td>0.0</td>\n",
       "      <td>0.0</td>\n",
       "      <td>0.0</td>\n",
       "      <td>0.0</td>\n",
       "      <td>0.0</td>\n",
       "      <td>0.0</td>\n",
       "      <td>0.0</td>\n",
       "      <td>0.0</td>\n",
       "      <td>0.0</td>\n",
       "      <td>0.0</td>\n",
       "      <td>0.0</td>\n",
       "    </tr>\n",
       "    <tr>\n",
       "      <th>438</th>\n",
       "      <td>50.0</td>\n",
       "      <td>50.0</td>\n",
       "      <td>0.0</td>\n",
       "      <td>0.0</td>\n",
       "      <td>0.0</td>\n",
       "      <td>0.0</td>\n",
       "      <td>0.0</td>\n",
       "      <td>50.0</td>\n",
       "      <td>50.0</td>\n",
       "      <td>0.0</td>\n",
       "      <td>0.0</td>\n",
       "      <td>50.0</td>\n",
       "      <td>0.0</td>\n",
       "      <td>50.0</td>\n",
       "      <td>0.0</td>\n",
       "      <td>0.0</td>\n",
       "      <td>0.0</td>\n",
       "      <td>0.0</td>\n",
       "      <td>0.0</td>\n",
       "    </tr>\n",
       "    <tr>\n",
       "      <th>439</th>\n",
       "      <td>69.0</td>\n",
       "      <td>69.0</td>\n",
       "      <td>0.0</td>\n",
       "      <td>0.0</td>\n",
       "      <td>0.0</td>\n",
       "      <td>0.0</td>\n",
       "      <td>0.0</td>\n",
       "      <td>0.0</td>\n",
       "      <td>0.0</td>\n",
       "      <td>0.0</td>\n",
       "      <td>0.0</td>\n",
       "      <td>69.0</td>\n",
       "      <td>0.0</td>\n",
       "      <td>0.0</td>\n",
       "      <td>0.0</td>\n",
       "      <td>69.0</td>\n",
       "      <td>0.0</td>\n",
       "      <td>0.0</td>\n",
       "      <td>0.0</td>\n",
       "    </tr>\n",
       "    <tr>\n",
       "      <th>440</th>\n",
       "      <td>54.0</td>\n",
       "      <td>54.0</td>\n",
       "      <td>0.0</td>\n",
       "      <td>0.0</td>\n",
       "      <td>0.0</td>\n",
       "      <td>0.0</td>\n",
       "      <td>0.0</td>\n",
       "      <td>54.0</td>\n",
       "      <td>0.0</td>\n",
       "      <td>0.0</td>\n",
       "      <td>0.0</td>\n",
       "      <td>0.0</td>\n",
       "      <td>0.0</td>\n",
       "      <td>0.0</td>\n",
       "      <td>0.0</td>\n",
       "      <td>54.0</td>\n",
       "      <td>54.0</td>\n",
       "      <td>0.0</td>\n",
       "      <td>0.0</td>\n",
       "    </tr>\n",
       "    <tr>\n",
       "      <th>441</th>\n",
       "      <td>76.0</td>\n",
       "      <td>76.0</td>\n",
       "      <td>0.0</td>\n",
       "      <td>0.0</td>\n",
       "      <td>0.0</td>\n",
       "      <td>76.0</td>\n",
       "      <td>0.0</td>\n",
       "      <td>0.0</td>\n",
       "      <td>0.0</td>\n",
       "      <td>0.0</td>\n",
       "      <td>0.0</td>\n",
       "      <td>76.0</td>\n",
       "      <td>0.0</td>\n",
       "      <td>0.0</td>\n",
       "      <td>0.0</td>\n",
       "      <td>0.0</td>\n",
       "      <td>0.0</td>\n",
       "      <td>0.0</td>\n",
       "      <td>0.0</td>\n",
       "    </tr>\n",
       "    <tr>\n",
       "      <th>442</th>\n",
       "      <td>50.0</td>\n",
       "      <td>50.0</td>\n",
       "      <td>0.0</td>\n",
       "      <td>0.0</td>\n",
       "      <td>0.0</td>\n",
       "      <td>0.0</td>\n",
       "      <td>0.0</td>\n",
       "      <td>0.0</td>\n",
       "      <td>0.0</td>\n",
       "      <td>0.0</td>\n",
       "      <td>0.0</td>\n",
       "      <td>50.0</td>\n",
       "      <td>0.0</td>\n",
       "      <td>0.0</td>\n",
       "      <td>0.0</td>\n",
       "      <td>0.0</td>\n",
       "      <td>50.0</td>\n",
       "      <td>0.0</td>\n",
       "      <td>0.0</td>\n",
       "    </tr>\n",
       "    <tr>\n",
       "      <th>443</th>\n",
       "      <td>71.0</td>\n",
       "      <td>0.0</td>\n",
       "      <td>0.0</td>\n",
       "      <td>0.0</td>\n",
       "      <td>0.0</td>\n",
       "      <td>0.0</td>\n",
       "      <td>0.0</td>\n",
       "      <td>71.0</td>\n",
       "      <td>0.0</td>\n",
       "      <td>0.0</td>\n",
       "      <td>0.0</td>\n",
       "      <td>0.0</td>\n",
       "      <td>0.0</td>\n",
       "      <td>0.0</td>\n",
       "      <td>0.0</td>\n",
       "      <td>0.0</td>\n",
       "      <td>0.0</td>\n",
       "      <td>0.0</td>\n",
       "      <td>71.0</td>\n",
       "    </tr>\n",
       "    <tr>\n",
       "      <th>444</th>\n",
       "      <td>0.0</td>\n",
       "      <td>0.0</td>\n",
       "      <td>0.0</td>\n",
       "      <td>0.0</td>\n",
       "      <td>54.0</td>\n",
       "      <td>54.0</td>\n",
       "      <td>0.0</td>\n",
       "      <td>54.0</td>\n",
       "      <td>0.0</td>\n",
       "      <td>0.0</td>\n",
       "      <td>0.0</td>\n",
       "      <td>0.0</td>\n",
       "      <td>0.0</td>\n",
       "      <td>0.0</td>\n",
       "      <td>0.0</td>\n",
       "      <td>0.0</td>\n",
       "      <td>0.0</td>\n",
       "      <td>0.0</td>\n",
       "      <td>0.0</td>\n",
       "    </tr>\n",
       "    <tr>\n",
       "      <th>445</th>\n",
       "      <td>0.0</td>\n",
       "      <td>0.0</td>\n",
       "      <td>0.0</td>\n",
       "      <td>0.0</td>\n",
       "      <td>52.0</td>\n",
       "      <td>0.0</td>\n",
       "      <td>0.0</td>\n",
       "      <td>52.0</td>\n",
       "      <td>0.0</td>\n",
       "      <td>0.0</td>\n",
       "      <td>0.0</td>\n",
       "      <td>0.0</td>\n",
       "      <td>0.0</td>\n",
       "      <td>0.0</td>\n",
       "      <td>0.0</td>\n",
       "      <td>0.0</td>\n",
       "      <td>0.0</td>\n",
       "      <td>0.0</td>\n",
       "      <td>0.0</td>\n",
       "    </tr>\n",
       "    <tr>\n",
       "      <th>446</th>\n",
       "      <td>0.0</td>\n",
       "      <td>0.0</td>\n",
       "      <td>0.0</td>\n",
       "      <td>0.0</td>\n",
       "      <td>0.0</td>\n",
       "      <td>0.0</td>\n",
       "      <td>0.0</td>\n",
       "      <td>0.0</td>\n",
       "      <td>0.0</td>\n",
       "      <td>0.0</td>\n",
       "      <td>0.0</td>\n",
       "      <td>73.0</td>\n",
       "      <td>0.0</td>\n",
       "      <td>0.0</td>\n",
       "      <td>0.0</td>\n",
       "      <td>73.0</td>\n",
       "      <td>0.0</td>\n",
       "      <td>0.0</td>\n",
       "      <td>0.0</td>\n",
       "    </tr>\n",
       "    <tr>\n",
       "      <th>447</th>\n",
       "      <td>59.0</td>\n",
       "      <td>59.0</td>\n",
       "      <td>0.0</td>\n",
       "      <td>0.0</td>\n",
       "      <td>0.0</td>\n",
       "      <td>0.0</td>\n",
       "      <td>0.0</td>\n",
       "      <td>0.0</td>\n",
       "      <td>0.0</td>\n",
       "      <td>0.0</td>\n",
       "      <td>0.0</td>\n",
       "      <td>0.0</td>\n",
       "      <td>0.0</td>\n",
       "      <td>0.0</td>\n",
       "      <td>0.0</td>\n",
       "      <td>59.0</td>\n",
       "      <td>0.0</td>\n",
       "      <td>0.0</td>\n",
       "      <td>0.0</td>\n",
       "    </tr>\n",
       "    <tr>\n",
       "      <th>448</th>\n",
       "      <td>0.0</td>\n",
       "      <td>0.0</td>\n",
       "      <td>0.0</td>\n",
       "      <td>0.0</td>\n",
       "      <td>0.0</td>\n",
       "      <td>0.0</td>\n",
       "      <td>0.0</td>\n",
       "      <td>50.0</td>\n",
       "      <td>0.0</td>\n",
       "      <td>0.0</td>\n",
       "      <td>0.0</td>\n",
       "      <td>0.0</td>\n",
       "      <td>0.0</td>\n",
       "      <td>0.0</td>\n",
       "      <td>0.0</td>\n",
       "      <td>0.0</td>\n",
       "      <td>50.0</td>\n",
       "      <td>50.0</td>\n",
       "      <td>0.0</td>\n",
       "    </tr>\n",
       "    <tr>\n",
       "      <th>449</th>\n",
       "      <td>54.0</td>\n",
       "      <td>54.0</td>\n",
       "      <td>0.0</td>\n",
       "      <td>0.0</td>\n",
       "      <td>54.0</td>\n",
       "      <td>0.0</td>\n",
       "      <td>0.0</td>\n",
       "      <td>0.0</td>\n",
       "      <td>0.0</td>\n",
       "      <td>0.0</td>\n",
       "      <td>0.0</td>\n",
       "      <td>0.0</td>\n",
       "      <td>0.0</td>\n",
       "      <td>0.0</td>\n",
       "      <td>0.0</td>\n",
       "      <td>54.0</td>\n",
       "      <td>0.0</td>\n",
       "      <td>0.0</td>\n",
       "      <td>0.0</td>\n",
       "    </tr>\n",
       "  </tbody>\n",
       "</table>\n",
       "<p>450 rows × 19 columns</p>\n",
       "</div>"
      ],
      "text/plain": [
       "     Action  Adventure  Animation  Children  Comedy  Crime  Documentary  \\\n",
       "0       0.0      215.0      215.0     215.0   215.0    0.0          0.0   \n",
       "1       0.0      110.0        0.0     110.0     0.0    0.0          0.0   \n",
       "2       0.0        0.0        0.0       0.0    52.0    0.0          0.0   \n",
       "3     102.0        0.0        0.0       0.0     0.0  102.0          0.0   \n",
       "4       0.0        0.0        0.0       0.0    54.0    0.0          0.0   \n",
       "5     132.0      132.0        0.0       0.0     0.0    0.0          0.0   \n",
       "6       0.0        0.0        0.0       0.0    70.0    0.0          0.0   \n",
       "7       0.0        0.0        0.0       0.0     0.0   82.0          0.0   \n",
       "8       0.0        0.0        0.0       0.0     0.0    0.0          0.0   \n",
       "9       0.0        0.0        0.0       0.0    88.0    0.0          0.0   \n",
       "10      0.0        0.0        0.0       0.0    89.0   89.0          0.0   \n",
       "11      0.0        0.0        0.0       0.0     0.0    0.0          0.0   \n",
       "12      0.0        0.0        0.0       0.0     0.0    0.0          0.0   \n",
       "13      0.0        0.0        0.0     128.0     0.0    0.0          0.0   \n",
       "14      0.0        0.0        0.0       0.0     0.0   67.0          0.0   \n",
       "15      0.0        0.0        0.0       0.0   104.0    0.0          0.0   \n",
       "16      0.0        0.0        0.0       0.0     0.0    0.0          0.0   \n",
       "17      0.0        0.0       68.0      68.0     0.0    0.0          0.0   \n",
       "18      0.0        0.0        0.0       0.0     0.0  204.0          0.0   \n",
       "19      0.0        0.0        0.0       0.0     0.0    0.0          0.0   \n",
       "20     55.0        0.0        0.0       0.0    55.0    0.0          0.0   \n",
       "21     84.0       84.0        0.0       0.0     0.0    0.0          0.0   \n",
       "22      0.0        0.0        0.0       0.0    99.0    0.0          0.0   \n",
       "23    237.0        0.0        0.0       0.0     0.0    0.0          0.0   \n",
       "24      0.0        0.0        0.0       0.0     0.0  104.0          0.0   \n",
       "25      0.0        0.0        0.0       0.0    86.0    0.0          0.0   \n",
       "26     51.0        0.0        0.0       0.0    51.0   51.0          0.0   \n",
       "27      0.0      201.0        0.0       0.0     0.0    0.0          0.0   \n",
       "28    137.0      137.0        0.0       0.0   137.0  137.0          0.0   \n",
       "29      0.0       62.0        0.0      62.0     0.0    0.0          0.0   \n",
       "..      ...        ...        ...       ...     ...    ...          ...   \n",
       "420    54.0        0.0       54.0      54.0    54.0    0.0          0.0   \n",
       "421     0.0      104.0      104.0     104.0     0.0    0.0          0.0   \n",
       "422     0.0        0.0        0.0       0.0     0.0   71.0          0.0   \n",
       "423    88.0        0.0        0.0       0.0     0.0    0.0          0.0   \n",
       "424    59.0       59.0        0.0       0.0     0.0    0.0          0.0   \n",
       "425     0.0      105.0      105.0     105.0     0.0    0.0          0.0   \n",
       "426     0.0        0.0        0.0       0.0    76.0   76.0          0.0   \n",
       "427     0.0       58.0        0.0       0.0     0.0    0.0          0.0   \n",
       "428     0.0        0.0        0.0       0.0     0.0    0.0          0.0   \n",
       "429    53.0        0.0        0.0       0.0    53.0    0.0          0.0   \n",
       "430    97.0       97.0        0.0       0.0     0.0    0.0          0.0   \n",
       "431    58.0        0.0        0.0       0.0     0.0   58.0          0.0   \n",
       "432     0.0        0.0        0.0       0.0     0.0    0.0          0.0   \n",
       "433     0.0       53.0       53.0      53.0     0.0    0.0          0.0   \n",
       "434     0.0       55.0       55.0      55.0    55.0    0.0          0.0   \n",
       "435   143.0        0.0        0.0       0.0     0.0  143.0          0.0   \n",
       "436     0.0        0.0        0.0       0.0     0.0    0.0          0.0   \n",
       "437     0.0        0.0        0.0       0.0     0.0    0.0          0.0   \n",
       "438    50.0       50.0        0.0       0.0     0.0    0.0          0.0   \n",
       "439    69.0       69.0        0.0       0.0     0.0    0.0          0.0   \n",
       "440    54.0       54.0        0.0       0.0     0.0    0.0          0.0   \n",
       "441    76.0       76.0        0.0       0.0     0.0   76.0          0.0   \n",
       "442    50.0       50.0        0.0       0.0     0.0    0.0          0.0   \n",
       "443    71.0        0.0        0.0       0.0     0.0    0.0          0.0   \n",
       "444     0.0        0.0        0.0       0.0    54.0   54.0          0.0   \n",
       "445     0.0        0.0        0.0       0.0    52.0    0.0          0.0   \n",
       "446     0.0        0.0        0.0       0.0     0.0    0.0          0.0   \n",
       "447    59.0       59.0        0.0       0.0     0.0    0.0          0.0   \n",
       "448     0.0        0.0        0.0       0.0     0.0    0.0          0.0   \n",
       "449    54.0       54.0        0.0       0.0    54.0    0.0          0.0   \n",
       "\n",
       "     Drama  Fantasy  FilmNoir  Horror   IMAX  Musical  Mystery  Romance  \\\n",
       "0      0.0    215.0       0.0     0.0    0.0      0.0      0.0      0.0   \n",
       "1      0.0    110.0       0.0     0.0    0.0      0.0      0.0      0.0   \n",
       "2      0.0      0.0       0.0     0.0    0.0      0.0      0.0     52.0   \n",
       "3      0.0      0.0       0.0     0.0    0.0      0.0      0.0      0.0   \n",
       "4      0.0      0.0       0.0     0.0    0.0      0.0      0.0     54.0   \n",
       "5      0.0      0.0       0.0     0.0    0.0      0.0      0.0      0.0   \n",
       "6     70.0      0.0       0.0     0.0    0.0      0.0      0.0     70.0   \n",
       "7     82.0      0.0       0.0     0.0    0.0      0.0      0.0      0.0   \n",
       "8     67.0      0.0       0.0     0.0    0.0      0.0      0.0     67.0   \n",
       "9      0.0      0.0       0.0     0.0    0.0      0.0      0.0      0.0   \n",
       "10     0.0      0.0       0.0     0.0    0.0      0.0      0.0      0.0   \n",
       "11    76.0      0.0       0.0     0.0    0.0      0.0      0.0     76.0   \n",
       "12     0.0      0.0       0.0     0.0    0.0      0.0    177.0      0.0   \n",
       "13   128.0      0.0       0.0     0.0    0.0      0.0      0.0      0.0   \n",
       "14    67.0      0.0       0.0     0.0    0.0      0.0      0.0      0.0   \n",
       "15     0.0      0.0       0.0     0.0    0.0      0.0      0.0    104.0   \n",
       "16     0.0      0.0       0.0     0.0    0.0      0.0    203.0      0.0   \n",
       "17    68.0      0.0       0.0     0.0    0.0     68.0      0.0     68.0   \n",
       "18     0.0      0.0       0.0     0.0    0.0      0.0    204.0      0.0   \n",
       "19    80.0      0.0       0.0     0.0    0.0      0.0      0.0      0.0   \n",
       "20     0.0      0.0       0.0    55.0    0.0      0.0      0.0      0.0   \n",
       "21     0.0      0.0       0.0     0.0    0.0      0.0      0.0      0.0   \n",
       "22     0.0      0.0       0.0     0.0    0.0      0.0      0.0      0.0   \n",
       "23   237.0      0.0       0.0     0.0    0.0      0.0      0.0      0.0   \n",
       "24   104.0      0.0       0.0     0.0    0.0      0.0      0.0      0.0   \n",
       "25     0.0      0.0       0.0     0.0    0.0      0.0      0.0      0.0   \n",
       "26    51.0      0.0       0.0     0.0    0.0      0.0      0.0      0.0   \n",
       "27   201.0      0.0       0.0     0.0  201.0      0.0      0.0      0.0   \n",
       "28     0.0      0.0       0.0     0.0    0.0      0.0      0.0      0.0   \n",
       "29     0.0      0.0       0.0     0.0    0.0      0.0      0.0      0.0   \n",
       "..     ...      ...       ...     ...    ...      ...      ...      ...   \n",
       "420    0.0      0.0       0.0     0.0   54.0      0.0      0.0      0.0   \n",
       "421    0.0      0.0       0.0     0.0    0.0      0.0      0.0    104.0   \n",
       "422   71.0      0.0       0.0     0.0    0.0      0.0      0.0     71.0   \n",
       "423   88.0      0.0       0.0     0.0    0.0      0.0      0.0      0.0   \n",
       "424    0.0      0.0       0.0     0.0   59.0      0.0      0.0      0.0   \n",
       "425  105.0      0.0       0.0     0.0    0.0      0.0      0.0      0.0   \n",
       "426    0.0      0.0       0.0     0.0    0.0      0.0      0.0      0.0   \n",
       "427    0.0     58.0       0.0     0.0   58.0      0.0     58.0     58.0   \n",
       "428    0.0      0.0       0.0     0.0    0.0      0.0     65.0      0.0   \n",
       "429    0.0      0.0       0.0    53.0    0.0      0.0      0.0      0.0   \n",
       "430    0.0      0.0       0.0     0.0   97.0      0.0      0.0      0.0   \n",
       "431    0.0      0.0       0.0     0.0    0.0      0.0     58.0      0.0   \n",
       "432   67.0      0.0       0.0     0.0    0.0      0.0     67.0      0.0   \n",
       "433    0.0     53.0       0.0     0.0   53.0      0.0      0.0      0.0   \n",
       "434    0.0     55.0       0.0     0.0   55.0      0.0      0.0      0.0   \n",
       "435  143.0      0.0       0.0     0.0  143.0      0.0    143.0      0.0   \n",
       "436   57.0      0.0       0.0     0.0    0.0      0.0      0.0      0.0   \n",
       "437   58.0      0.0       0.0     0.0    0.0      0.0      0.0      0.0   \n",
       "438   50.0     50.0       0.0     0.0   50.0      0.0     50.0      0.0   \n",
       "439    0.0      0.0       0.0     0.0   69.0      0.0      0.0      0.0   \n",
       "440   54.0      0.0       0.0     0.0    0.0      0.0      0.0      0.0   \n",
       "441    0.0      0.0       0.0     0.0   76.0      0.0      0.0      0.0   \n",
       "442    0.0      0.0       0.0     0.0   50.0      0.0      0.0      0.0   \n",
       "443   71.0      0.0       0.0     0.0    0.0      0.0      0.0      0.0   \n",
       "444   54.0      0.0       0.0     0.0    0.0      0.0      0.0      0.0   \n",
       "445   52.0      0.0       0.0     0.0    0.0      0.0      0.0      0.0   \n",
       "446    0.0      0.0       0.0     0.0   73.0      0.0      0.0      0.0   \n",
       "447    0.0      0.0       0.0     0.0    0.0      0.0      0.0      0.0   \n",
       "448   50.0      0.0       0.0     0.0    0.0      0.0      0.0      0.0   \n",
       "449    0.0      0.0       0.0     0.0    0.0      0.0      0.0      0.0   \n",
       "\n",
       "     SciFi  Thriller    War  Western  \n",
       "0      0.0       0.0    0.0      0.0  \n",
       "1      0.0       0.0    0.0      0.0  \n",
       "2      0.0       0.0    0.0      0.0  \n",
       "3      0.0     102.0    0.0      0.0  \n",
       "4      0.0       0.0    0.0      0.0  \n",
       "5      0.0     132.0    0.0      0.0  \n",
       "6      0.0       0.0    0.0      0.0  \n",
       "7      0.0       0.0    0.0      0.0  \n",
       "8      0.0       0.0    0.0      0.0  \n",
       "9      0.0       0.0    0.0      0.0  \n",
       "10     0.0      89.0    0.0      0.0  \n",
       "11     0.0       0.0    0.0      0.0  \n",
       "12   177.0     177.0    0.0      0.0  \n",
       "13     0.0       0.0    0.0      0.0  \n",
       "14     0.0       0.0    0.0      0.0  \n",
       "15     0.0       0.0    0.0      0.0  \n",
       "16     0.0     203.0    0.0      0.0  \n",
       "17     0.0       0.0    0.0      0.0  \n",
       "18     0.0     204.0    0.0      0.0  \n",
       "19     0.0       0.0    0.0      0.0  \n",
       "20     0.0      55.0    0.0      0.0  \n",
       "21     0.0      84.0    0.0      0.0  \n",
       "22     0.0       0.0    0.0      0.0  \n",
       "23     0.0       0.0  237.0      0.0  \n",
       "24     0.0     104.0    0.0      0.0  \n",
       "25     0.0       0.0    0.0      0.0  \n",
       "26     0.0      51.0    0.0      0.0  \n",
       "27     0.0       0.0    0.0      0.0  \n",
       "28     0.0       0.0    0.0      0.0  \n",
       "29     0.0       0.0    0.0      0.0  \n",
       "..     ...       ...    ...      ...  \n",
       "420    0.0       0.0    0.0      0.0  \n",
       "421  104.0       0.0    0.0      0.0  \n",
       "422    0.0       0.0    0.0      0.0  \n",
       "423    0.0       0.0   88.0      0.0  \n",
       "424   59.0       0.0    0.0      0.0  \n",
       "425    0.0       0.0    0.0      0.0  \n",
       "426    0.0       0.0    0.0      0.0  \n",
       "427    0.0       0.0    0.0      0.0  \n",
       "428   65.0      65.0    0.0      0.0  \n",
       "429    0.0       0.0    0.0      0.0  \n",
       "430   97.0       0.0    0.0      0.0  \n",
       "431    0.0      58.0    0.0      0.0  \n",
       "432    0.0      67.0    0.0      0.0  \n",
       "433    0.0       0.0    0.0      0.0  \n",
       "434    0.0       0.0    0.0      0.0  \n",
       "435  143.0     143.0    0.0      0.0  \n",
       "436    0.0       0.0    0.0      0.0  \n",
       "437    0.0       0.0    0.0      0.0  \n",
       "438    0.0       0.0    0.0      0.0  \n",
       "439   69.0       0.0    0.0      0.0  \n",
       "440   54.0      54.0    0.0      0.0  \n",
       "441    0.0       0.0    0.0      0.0  \n",
       "442    0.0      50.0    0.0      0.0  \n",
       "443    0.0       0.0    0.0     71.0  \n",
       "444    0.0       0.0    0.0      0.0  \n",
       "445    0.0       0.0    0.0      0.0  \n",
       "446   73.0       0.0    0.0      0.0  \n",
       "447   59.0       0.0    0.0      0.0  \n",
       "448    0.0      50.0   50.0      0.0  \n",
       "449   54.0       0.0    0.0      0.0  \n",
       "\n",
       "[450 rows x 19 columns]"
      ]
     },
     "execution_count": 30,
     "metadata": {},
     "output_type": "execute_result"
    }
   ],
   "source": [
    "votos_por_genero_por_filme = pd.DataFrame((generos.values.T * filmes['total_de_votos'].values).T, columns = generos.columns)\n",
    "votos_por_genero_por_filme"
   ]
  },
  {
   "cell_type": "code",
   "execution_count": 31,
   "metadata": {},
   "outputs": [
    {
     "data": {
      "text/plain": [
       "Documentary      108.0\n",
       "FilmNoir         291.0\n",
       "Western          900.0\n",
       "Musical         1822.0\n",
       "War             2113.0\n",
       "Horror          2215.0\n",
       "IMAX            2492.0\n",
       "Animation       3066.0\n",
       "Mystery         3452.0\n",
       "Children        4331.0\n",
       "Fantasy         5993.0\n",
       "Romance         7444.0\n",
       "Crime           8649.0\n",
       "SciFi           8989.0\n",
       "Thriller       11907.0\n",
       "Adventure      13117.0\n",
       "Comedy         15330.0\n",
       "Drama          15445.0\n",
       "Action         15734.0\n",
       "dtype: float64"
      ]
     },
     "execution_count": 31,
     "metadata": {},
     "output_type": "execute_result"
    }
   ],
   "source": [
    "# solucão\n",
    "votos_por_genero = votos_por_genero_por_filme.sum().sort_values()\n",
    "votos_por_genero"
   ]
  },
  {
   "cell_type": "code",
   "execution_count": 32,
   "metadata": {},
   "outputs": [
    {
     "data": {
      "text/plain": [
       "Text(0.5,0,'número de votos')"
      ]
     },
     "execution_count": 32,
     "metadata": {},
     "output_type": "execute_result"
    },
    {
     "data": {
      "image/png": "[encoded data removed]",
      "text/plain": [
       "<Figure size 864x432 with 1 Axes>"
      ]
     },
     "metadata": {},
     "output_type": "display_data"
    }
   ],
   "source": [
    "# solução\n",
    "fig = plt.figure(figsize=(12,6))\n",
    "ax = plt.subplot()\n",
    "\n",
    "ax.barh(votos_por_genero.keys(), votos_por_genero)\n",
    "ax.set_title('Número de votos por gênero')\n",
    "ax.set_xlabel('número de votos')\n"
   ]
  },
  {
   "cell_type": "code",
   "execution_count": 33,
   "metadata": {},
   "outputs": [
    {
     "data": {
      "text/plain": [
       "Action       15734.0\n",
       "Drama        15445.0\n",
       "Comedy       15330.0\n",
       "Adventure    13117.0\n",
       "Thriller     11907.0\n",
       "dtype: float64"
      ]
     },
     "execution_count": 33,
     "metadata": {},
     "output_type": "execute_result"
    }
   ],
   "source": [
    "top5_generos_em_quantidade_de_votos = votos_por_genero.tail(5).sort_values(ascending=False)\n",
    "top5_generos_em_quantidade_de_votos"
   ]
  },
  {
   "cell_type": "markdown",
   "metadata": {},
   "source": [
    "## Pergunta : votos por filme por genero\n",
    "\n",
    "Queremos entender a quantidade de votos em relação a quantidade de filmes existentes naquele genero.\n",
    "\n",
    "Por exemplo: \n",
    "- se temos 1000 votos de `Ação` e 10 filmes desse genero, foram 100 votos por filme nesse genero.\n",
    "- se o gênero `Documentário` tem 2 filmes e 500 votos, ele tem 250 votos por filme nesse gênero.\n",
    "\n",
    "Queremos entender isso, a \"popularidade\" média de um filme em cada categoria, isto é, o número de votos dividido pelo número de filmes, organizado para cada categoria.\n",
    "\n",
    "- Você já possui o número de votos por genero\n",
    "- Calcule o número de votos por genero dividido pelo total de filmes por genero\n",
    "- Ordene do maior para o menor\n",
    "- Plote um gráfico para visualizarmos esses dados"
   ]
  },
  {
   "cell_type": "code",
   "execution_count": 34,
   "metadata": {},
   "outputs": [
    {
     "data": {
      "text/plain": [
       "Documentary     108.0\n",
       "FilmNoir        291.0\n",
       "Western         900.0\n",
       "Musical        1822.0\n",
       "War            2113.0\n",
       "dtype: float64"
      ]
     },
     "execution_count": 34,
     "metadata": {},
     "output_type": "execute_result"
    }
   ],
   "source": [
    "votos_por_genero.head()"
   ]
  },
  {
   "cell_type": "code",
   "execution_count": 35,
   "metadata": {},
   "outputs": [
    {
     "data": {
      "text/plain": [
       "Documentary     2\n",
       "FilmNoir        4\n",
       "Western        12\n",
       "War            19\n",
       "Musical        21\n",
       "dtype: int64"
      ]
     },
     "execution_count": 35,
     "metadata": {},
     "output_type": "execute_result"
    }
   ],
   "source": [
    "filmes_por_genero.head()"
   ]
  },
  {
   "cell_type": "code",
   "execution_count": 36,
   "metadata": {},
   "outputs": [
    {
     "data": {
      "text/plain": [
       "War            111.210526\n",
       "Crime           99.413793\n",
       "Adventure       99.371212\n",
       "Thriller        98.404959\n",
       "SciFi           97.706522\n",
       "Action          95.939024\n",
       "Animation       95.812500\n",
       "Drama           93.042169\n",
       "Children        92.148936\n",
       "Mystery         90.842105\n",
       "Fantasy         90.803030\n",
       "IMAX            89.000000\n",
       "Romance         87.576471\n",
       "Musical         86.761905\n",
       "Horror          85.192308\n",
       "Comedy          84.696133\n",
       "Western         75.000000\n",
       "FilmNoir        72.750000\n",
       "Documentary     54.000000\n",
       "dtype: float64"
      ]
     },
     "execution_count": 36,
     "metadata": {},
     "output_type": "execute_result"
    }
   ],
   "source": [
    "# solucao código\n",
    "popularidade = votos_por_genero/filmes_por_genero\n",
    "popularidade = popularidade.sort_values(ascending=False)\n",
    "popularidade"
   ]
  },
  {
   "cell_type": "code",
   "execution_count": 37,
   "metadata": {},
   "outputs": [
    {
     "data": {
      "text/plain": [
       "Text(0.5,0,'número médio de votos')"
      ]
     },
     "execution_count": 37,
     "metadata": {},
     "output_type": "execute_result"
    },
    {
     "data": {
      "image/png": "[encoded data removed]",
      "text/plain": [
       "<Figure size 864x432 with 1 Axes>"
      ]
     },
     "metadata": {},
     "output_type": "display_data"
    }
   ],
   "source": [
    "# solução com visualização \n",
    "fig = plt.figure(figsize=(12,6))\n",
    "ax = plt.subplot()\n",
    "\n",
    "ax.barh(popularidade.keys(), popularidade)\n",
    "ax.set_title('Popularidade')\n",
    "ax.set_xlabel('número médio de votos')"
   ]
  },
  {
   "cell_type": "markdown",
   "metadata": {},
   "source": [
    "## Pergunta: Olhando as 3 últimas visualizações o que você conclui sobre os generos `Action` e `War`?"
   ]
  },
  {
   "cell_type": "markdown",
   "metadata": {},
   "source": [
    "### Solução (texto livre):\n",
    "    \n",
    "    Embora o gênero de filmes de ação tenha uma maior quantidade de votos, os filmes de guerra são, em média, mais populares do que os filmes de ação. Isso porque existem muito mais filmes de ação do que de guerra, mas geralmente os de guerra são mais votados."
   ]
  },
  {
   "cell_type": "markdown",
   "metadata": {},
   "source": [
    "## Pergunta: Crie 2 boxplots no mesmo plot comparando a coluna `total_de_votos` dos filmes de categoria `Horror` e `Adventure`  \n",
    "\n",
    "Dica:\n",
    "\n",
    "- as vezes é mais fácil usar o boxplot do matplotlib ao invés do seaborn\n",
    "- plt.boxplot suporta o parâmetro labels com uma lista de nomes para cada boxplot plotado"
   ]
  },
  {
   "cell_type": "code",
   "execution_count": 109,
   "metadata": {},
   "outputs": [
    {
     "data": {
      "text/plain": [
       "Text(0,0.5,'total de votos')"
      ]
     },
     "execution_count": 109,
     "metadata": {},
     "output_type": "execute_result"
    },
    {
     "data": {
      "image/png": "[encoded data removed]",
      "text/plain": [
       "<Figure size 216x432 with 1 Axes>"
      ]
     },
     "metadata": {},
     "output_type": "display_data"
    }
   ],
   "source": [
    "# solução:\n",
    "categoria_horror = filmes.query('Horror==1')\n",
    "categoria_adventure = filmes.query('Adventure==1')\n",
    "\n",
    "fig = plt.figure(figsize=(3,6))\n",
    "ax = plt.subplot()\n",
    "\n",
    "ax.boxplot([categoria_horror.total_de_votos, categoria_adventure.total_de_votos], labels=['Horror', 'Adventure'])\n",
    "ax.set_title('Comparação do total de votos entre os filmes de horror e aventura')\n",
    "ax.set_ylabel('total de votos')"
   ]
  },
  {
   "cell_type": "markdown",
   "metadata": {},
   "source": [
    "## Pergunta: mostre agora um boxplot para cada uma das categorias\n",
    "\n",
    "Dica:\n",
    "- use generos.columns para acessar todos os gêneros\n",
    "- já removemos os hífens dos nomes das colunas quando criamos as colunas de gêneros\n",
    "- plt (pyplot) do matplotlib suporta a função xticks(rotation=90) para rotacionar os labels"
   ]
  },
  {
   "cell_type": "code",
   "execution_count": 108,
   "metadata": {},
   "outputs": [],
   "source": [
    "votos_por_genero_por_filme = votos_por_genero_por_filme.replace(0,pd.NaT)\n",
    "generos_separados={}\n",
    "\n",
    "for g in generos.columns:\n",
    "    generos_separados[g] = votos_por_genero_por_filme[g].dropna().values\n",
    "\n",
    "# print(generos_separados)"
   ]
  },
  {
   "cell_type": "code",
   "execution_count": 107,
   "metadata": {},
   "outputs": [
    {
     "data": {
      "text/plain": [
       "Text(0.5,0,'total de votos por filme')"
      ]
     },
     "execution_count": 107,
     "metadata": {},
     "output_type": "execute_result"
    },
    {
     "data": {
      "image/png": "[encoded data removed]",
      "text/plain": [
       "<Figure size 936x576 with 1 Axes>"
      ]
     },
     "metadata": {},
     "output_type": "display_data"
    }
   ],
   "source": [
    "fig = plt.figure(figsize=(13,8))\n",
    "ax = plt.subplot()\n",
    "\n",
    "ax.boxplot([generos_separados[i] for i in generos_separados], vert=False, labels=[i for i in generos_separados])\n",
    "ax.set_title('Comparação do total de votos dos filmes entre todos gêneros ')\n",
    "ax.set_xlabel('total de votos por filme')"
   ]
  },
  {
   "cell_type": "markdown",
   "metadata": {},
   "source": [
    "## Pergunta: desejo criar um filme com somente um dos gêneros: `Horror` ou `Adventure`. Quero ter uma chance maior de ter um faturamento que pague minhas contas, mesmo que não seja um super sucesso absurdo de vendas. Qual dos 2 gêneros você sugere?"
   ]
  },
  {
   "cell_type": "markdown",
   "metadata": {},
   "source": [
    "### Solução:\n",
    "    \n",
    "Sugiro criar um filme do gênero Adventure, pois de acordo com o boxplot sua popularidade tende a ser mais alta que as dos filmes de horror."
   ]
  },
  {
   "cell_type": "markdown",
   "metadata": {},
   "source": [
    "## Pergunta: nossa análise foi até então visual. Aplique um teste estatístico para verificar se existe significância estatística na distribuição dos votos dos filmes de `Adventure` e `Horror`. Sua recomendação continua a mesma? Explique.\n",
    "\n",
    "Passos:\n",
    "\n",
    "- visualize a distribuição de ambas através de histogramas\n",
    "- se suspeitar normalidade na distribuição, faça um teste de normalidade para ambas\n",
    "- aplique um teste adequado de comparação das distribuições\n",
    "- explique o resultado encontrado\n",
    "- utilize p=0.05"
   ]
  },
  {
   "cell_type": "code",
   "execution_count": 119,
   "metadata": {},
   "outputs": [
    {
     "data": {
      "image/png": "[encoded data removed]",
      "text/plain": [
       "<Figure size 864x432 with 1 Axes>"
      ]
     },
     "metadata": {},
     "output_type": "display_data"
    }
   ],
   "source": [
    "# solucao histograma de aventura\n",
    "\n",
    "ax = sns.distplot(categoria_adventure.total_de_votos)\n",
    "ax.set(xlabel='Total de votos por filme', ylabel='Densidade')\n",
    "ax.set_title('Distribuição do total de votos por filme de aventura')\n",
    "ax.figure.set_size_inches(12, 6)\n"
   ]
  },
  {
   "cell_type": "code",
   "execution_count": 118,
   "metadata": {},
   "outputs": [
    {
     "data": {
      "image/png": "[encoded data removed]",
      "text/plain": [
       "<Figure size 864x432 with 1 Axes>"
      ]
     },
     "metadata": {},
     "output_type": "display_data"
    }
   ],
   "source": [
    "# solucao histograma de horror\n",
    "ax = sns.distplot(categoria_horror.total_de_votos)\n",
    "ax.set(xlabel='Total de votos por filme', ylabel='Densidade')\n",
    "ax.set_title('Distribuição do total de votos por filme de terror')\n",
    "ax.figure.set_size_inches(12, 6)"
   ]
  },
  {
   "cell_type": "code",
   "execution_count": 127,
   "metadata": {},
   "outputs": [
    {
     "name": "stdout",
     "output_type": "stream",
     "text": [
      "Os p-values para o teste de normalidade dos gêneros Adventure e Horror são, respectivamente: 0.000 e 0.000\n"
     ]
    }
   ],
   "source": [
    "# solucao teste de normalidade ou justificativa para nao utiliza-lo\n",
    "from scipy.stats import normaltest\n",
    "\n",
    "_, p_adventure = normaltest(categoria_adventure.total_de_votos)\n",
    "_, p_horror = normaltest(categoria_horror.total_de_votos)\n",
    "\n",
    "print(\"Os p-values para o teste de normalidade dos gêneros Adventure e Horror são, respectivamente: {:.3f} e {:.3f}\"\n",
    "     .format(p_adventure,p_horror))"
   ]
  },
  {
   "cell_type": "code",
   "execution_count": 147,
   "metadata": {},
   "outputs": [
    {
     "name": "stdout",
     "output_type": "stream",
     "text": [
      "Tamanho da categoria Adventure: 132\n",
      "Tamanho da categoria Horror: 26\n"
     ]
    }
   ],
   "source": [
    "print(\"Tamanho da categoria Adventure: %d\" % categoria_adventure.shape[0])\n",
    "print(\"Tamanho da categoria Horror: %d\" % categoria_horror.shape[0])"
   ]
  },
  {
   "cell_type": "code",
   "execution_count": 129,
   "metadata": {},
   "outputs": [
    {
     "data": {
      "text/plain": [
       "0.04782366231999856"
      ]
     },
     "execution_count": 129,
     "metadata": {},
     "output_type": "execute_result"
    }
   ],
   "source": [
    "# solução com o teste desejado\n",
    "from scipy.stats import ranksums\n",
    "\n",
    "_, p = ranksums(categoria_adventure.total_de_votos, categoria_horror.total_de_votos)\n",
    "p"
   ]
  },
  {
   "cell_type": "markdown",
   "metadata": {},
   "source": [
    "### Solução (explique sua conclusão):\n",
    "\n",
    "    Conforme os p-values atingidos a partir do normaltest, podemos rejeitar a hipotese nula de que ambas \n",
    "    distribuições são normais. Para comparação de duas distribuições não-paramétricas e com tamanho menor \n",
    "    que 30, utilizei o método ranksums do scipy. O valor de p-value encontrado no ranksums indica que \n",
    "    podemos rejeitar a hipotese de que os dados pertecem a mesma distribuição, concluíndo que os valores \n",
    "    de uma distribuição são, em média, maiores do que de outra. Por isso, minha recomendação segue a mesma."
   ]
  },
  {
   "cell_type": "markdown",
   "metadata": {},
   "source": [
    "## Pergunta: Faça os mesmos boxplots para as notas médias (`nota_media`) dos gêneros `Adventure` e `Horror`."
   ]
  },
  {
   "cell_type": "code",
   "execution_count": 136,
   "metadata": {},
   "outputs": [
    {
     "data": {
      "text/plain": [
       "Text(0,0.5,'nota média por filme')"
      ]
     },
     "execution_count": 136,
     "metadata": {},
     "output_type": "execute_result"
    },
    {
     "data": {
      "image/png": "[encoded data removed]",
      "text/plain": [
       "<Figure size 216x432 with 1 Axes>"
      ]
     },
     "metadata": {},
     "output_type": "display_data"
    }
   ],
   "source": [
    "# solução:\n",
    "fig = plt.figure(figsize=(3,6))\n",
    "ax = plt.subplot()\n",
    "\n",
    "ax.boxplot([categoria_horror.nota_media, categoria_adventure.nota_media], labels=['Horror', 'Adventure'])\n",
    "ax.set_title('Comparação das notas médias entre os filmes de horror e aventura')\n",
    "ax.set_ylabel('nota média por filme')"
   ]
  },
  {
   "cell_type": "code",
   "execution_count": null,
   "metadata": {},
   "outputs": [],
   "source": [
    "fig = plt.figure(figsize=(13,8))\n",
    "ax = plt.subplot()\n",
    "\n",
    "ax.boxplot([[i] for i in generos.columns], vert=False, labels=[i for i in  generos.columns])\n",
    "ax.set_title('Comparação do total de votos dos filmes entre todos gêneros ')\n",
    "ax.set_xlabel('total de votos por filme')"
   ]
  },
  {
   "cell_type": "markdown",
   "metadata": {},
   "source": [
    "## Pergunta: Quero fazer um filme que seja sucesso de crítica, com pessoas dando notas altas, mesmo que não tenha um número muito grande de pessoas assistindo. Qual gênero você recomenda se tenho que escolher somente um entre `Adventure` e `Horror`?"
   ]
  },
  {
   "cell_type": "markdown",
   "metadata": {},
   "source": [
    "### Solução:\n",
    "\n",
    "Os dois boxplots estão bem parecidos, o que torna a comparação imprecisa. Porém, as notas médias dos filmes de terror parecem possuir uma leve tendência a serem maiores que as dos filmes de aventura. Por isso indico criar um filme de terror."
   ]
  },
  {
   "cell_type": "markdown",
   "metadata": {},
   "source": [
    "## Pergunta: nossa análise foi até então visual. Aplique um teste estatístico para verificar se existe significância estatística na distribuição das notas dos filmes de `Adventure` e `Horror`.\n",
    "\n",
    "Passos:\n",
    "\n",
    "- visualize a distribuição de ambas através de histogramas\n",
    "- se suspeitar normalidade na distribuição, faça um teste de normalidade para ambas\n",
    "- aplique um teste adequado de comparação das distribuições\n",
    "- explique o resultado encontrado\n",
    "- utilize p=0.05"
   ]
  },
  {
   "cell_type": "code",
   "execution_count": 137,
   "metadata": {},
   "outputs": [
    {
     "data": {
      "image/png": "[encoded data removed]",
      "text/plain": [
       "<Figure size 864x432 with 1 Axes>"
      ]
     },
     "metadata": {},
     "output_type": "display_data"
    }
   ],
   "source": [
    "# solucao histograma de aventura\n",
    "\n",
    "ax = sns.distplot(categoria_adventure.nota_media)\n",
    "ax.set(xlabel='Nota média por filme', ylabel='Densidade')\n",
    "ax.set_title('Distribuição das notas médias por filme de aventura')\n",
    "ax.figure.set_size_inches(12, 6)"
   ]
  },
  {
   "cell_type": "code",
   "execution_count": 138,
   "metadata": {},
   "outputs": [
    {
     "data": {
      "image/png": "[encoded data removed]",
      "text/plain": [
       "<Figure size 864x432 with 1 Axes>"
      ]
     },
     "metadata": {},
     "output_type": "display_data"
    }
   ],
   "source": [
    "# solucao histograma de horror\n",
    "ax = sns.distplot(categoria_horror.nota_media)\n",
    "ax.set(xlabel='Nota média por filme', ylabel='Densidade')\n",
    "ax.set_title('Distribuição das notas médias por filme de aventura')\n",
    "ax.figure.set_size_inches(12, 6)"
   ]
  },
  {
   "cell_type": "code",
   "execution_count": 139,
   "metadata": {},
   "outputs": [
    {
     "name": "stdout",
     "output_type": "stream",
     "text": [
      "Os p-values para o teste de normalidade dos gêneros Adventure e Horror são, respectivamente: 0.013 e 0.212\n"
     ]
    }
   ],
   "source": [
    "# solucao teste de normalidade ou justificativa para nao utiliza-lo\n",
    "from scipy.stats import normaltest\n",
    "\n",
    "_, p_adventure = normaltest(categoria_adventure.nota_media)\n",
    "_, p_horror = normaltest(categoria_horror.nota_media)\n",
    "\n",
    "print(\"Os p-values para o teste de normalidade dos gêneros Adventure e Horror são, respectivamente: {:.3f} e {:.3f}\"\n",
    "     .format(p_adventure,p_horror))"
   ]
  },
  {
   "cell_type": "code",
   "execution_count": 142,
   "metadata": {},
   "outputs": [
    {
     "data": {
      "text/plain": [
       "0.8310397344212459"
      ]
     },
     "execution_count": 142,
     "metadata": {},
     "output_type": "execute_result"
    }
   ],
   "source": [
    "# solução com o teste desejado\n",
    "_, p_nao_parametrico = ranksums(categoria_adventure.nota_media, categoria_horror.nota_media)\n",
    "p_nao_parametrico"
   ]
  },
  {
   "cell_type": "code",
   "execution_count": 149,
   "metadata": {},
   "outputs": [
    {
     "data": {
      "text/html": [
       "<table class=\"simpletable\">\n",
       "<caption>Test for equality of means</caption>\n",
       "<tr>\n",
       "      <td></td>         <th>coef</th>     <th>std err</th>      <th>t</th>      <th>P>|t|</th>  <th>[0.025</th>    <th>0.975]</th>  \n",
       "</tr>\n",
       "<tr>\n",
       "  <th>subset #1</th> <td>    0.0048</td> <td>    0.085</td> <td>    0.057</td> <td> 0.955</td> <td>   -0.163</td> <td>    0.173</td>\n",
       "</tr>\n",
       "</table>"
      ],
      "text/plain": [
       "<class 'statsmodels.iolib.table.SimpleTable'>"
      ]
     },
     "execution_count": 149,
     "metadata": {},
     "output_type": "execute_result"
    }
   ],
   "source": [
    "from statsmodels.stats.weightstats import DescrStatsW\n",
    "\n",
    "descr_adventure = DescrStatsW(categoria_adventure.nota_media)\n",
    "descr_horror = DescrStatsW(categoria_horror.nota_media)\n",
    "\n",
    "comparacao = descr_adventure.get_compare(descr_horror)\n",
    "comparacao.summary(use_t=True)"
   ]
  },
  {
   "cell_type": "markdown",
   "metadata": {},
   "source": [
    "## Sua recomendação para maior sucesso de crítica em nota alta entre `Horror` e `Adventure` continua a mesma? Explique.\n",
    "\n"
   ]
  },
  {
   "cell_type": "markdown",
   "metadata": {},
   "source": [
    "### Solução:\n",
    "\n",
    "Como podemos observar, tanto nas análises visuais quanto nas descritivas, as distribuições dos gêneros Horror e Adventure são muito parecidas. Além disso, com base nos testes de hipotese aplicados, não podemos afirmar que existe um gênero melhor para essa distribuição."
   ]
  },
  {
   "cell_type": "markdown",
   "metadata": {},
   "source": [
    "## Pergunta: Quero fazer um filme que seja primeiro sucesso de crítica, com pessoas dando notas altas. Em segundo lugar quero que seja popular (mais pessoas assistam). Com as informações visuais e estatísticas, supondo poder escolher somente um, qual dos 2 gêneros você recomenda agora? `Horror` ou `Adventure`?"
   ]
  },
  {
   "cell_type": "markdown",
   "metadata": {},
   "source": [
    "### Solução:\n",
    "\n",
    "Escolheria o gênero aventura, pois em relação as críticas não podemos afirmar qual dos gêneros possuem mais chances de se sair melhor, mas em relação à popularidade sim, podemos. Com isso, considerando  o primeiro critério como empatado, é mais provavel que o genêro aventura tenha maior popularidade."
   ]
  },
  {
   "cell_type": "markdown",
   "metadata": {},
   "source": [
    "## Pergunta: Quais são os top 5 filmes dos 2 generos mais assistidas?\n",
    "\n",
    "- utilize os 2 generos mais votados em `votos_por_genero`\n",
    "- utilize a `nota_media` para definir o top 5 filmes\n",
    "- o resultado são 5, não 10 filmes"
   ]
  },
  {
   "cell_type": "code",
   "execution_count": 150,
   "metadata": {},
   "outputs": [
    {
     "data": {
      "text/plain": [
       "Documentary      108.0\n",
       "FilmNoir         291.0\n",
       "Western          900.0\n",
       "Musical         1822.0\n",
       "War             2113.0\n",
       "Horror          2215.0\n",
       "IMAX            2492.0\n",
       "Animation       3066.0\n",
       "Mystery         3452.0\n",
       "Children        4331.0\n",
       "Fantasy         5993.0\n",
       "Romance         7444.0\n",
       "Crime           8649.0\n",
       "SciFi           8989.0\n",
       "Thriller       11907.0\n",
       "Adventure      13117.0\n",
       "Comedy         15330.0\n",
       "Drama          15445.0\n",
       "Action         15734.0\n",
       "dtype: float64"
      ]
     },
     "execution_count": 150,
     "metadata": {},
     "output_type": "execute_result"
    }
   ],
   "source": [
    "votos_por_genero"
   ]
  },
  {
   "cell_type": "code",
   "execution_count": 155,
   "metadata": {},
   "outputs": [
    {
     "data": {
      "text/html": [
       "<div>\n",
       "<style scoped>\n",
       "    .dataframe tbody tr th:only-of-type {\n",
       "        vertical-align: middle;\n",
       "    }\n",
       "\n",
       "    .dataframe tbody tr th {\n",
       "        vertical-align: top;\n",
       "    }\n",
       "\n",
       "    .dataframe thead th {\n",
       "        text-align: right;\n",
       "    }\n",
       "</style>\n",
       "<table border=\"1\" class=\"dataframe\">\n",
       "  <thead>\n",
       "    <tr style=\"text-align: right;\">\n",
       "      <th></th>\n",
       "      <th>Action</th>\n",
       "      <th>Drama</th>\n",
       "    </tr>\n",
       "    <tr>\n",
       "      <th>filmeId</th>\n",
       "      <th></th>\n",
       "      <th></th>\n",
       "    </tr>\n",
       "  </thead>\n",
       "  <tbody>\n",
       "    <tr>\n",
       "      <th>6</th>\n",
       "      <td>1</td>\n",
       "      <td>0</td>\n",
       "    </tr>\n",
       "    <tr>\n",
       "      <th>10</th>\n",
       "      <td>1</td>\n",
       "      <td>0</td>\n",
       "    </tr>\n",
       "    <tr>\n",
       "      <th>11</th>\n",
       "      <td>0</td>\n",
       "      <td>1</td>\n",
       "    </tr>\n",
       "    <tr>\n",
       "      <th>16</th>\n",
       "      <td>0</td>\n",
       "      <td>1</td>\n",
       "    </tr>\n",
       "    <tr>\n",
       "      <th>17</th>\n",
       "      <td>0</td>\n",
       "      <td>1</td>\n",
       "    </tr>\n",
       "    <tr>\n",
       "      <th>25</th>\n",
       "      <td>0</td>\n",
       "      <td>1</td>\n",
       "    </tr>\n",
       "    <tr>\n",
       "      <th>34</th>\n",
       "      <td>0</td>\n",
       "      <td>1</td>\n",
       "    </tr>\n",
       "    <tr>\n",
       "      <th>36</th>\n",
       "      <td>0</td>\n",
       "      <td>1</td>\n",
       "    </tr>\n",
       "    <tr>\n",
       "      <th>48</th>\n",
       "      <td>0</td>\n",
       "      <td>1</td>\n",
       "    </tr>\n",
       "    <tr>\n",
       "      <th>62</th>\n",
       "      <td>0</td>\n",
       "      <td>1</td>\n",
       "    </tr>\n",
       "    <tr>\n",
       "      <th>70</th>\n",
       "      <td>1</td>\n",
       "      <td>0</td>\n",
       "    </tr>\n",
       "    <tr>\n",
       "      <th>95</th>\n",
       "      <td>1</td>\n",
       "      <td>0</td>\n",
       "    </tr>\n",
       "    <tr>\n",
       "      <th>110</th>\n",
       "      <td>1</td>\n",
       "      <td>1</td>\n",
       "    </tr>\n",
       "    <tr>\n",
       "      <th>111</th>\n",
       "      <td>0</td>\n",
       "      <td>1</td>\n",
       "    </tr>\n",
       "    <tr>\n",
       "      <th>145</th>\n",
       "      <td>1</td>\n",
       "      <td>1</td>\n",
       "    </tr>\n",
       "    <tr>\n",
       "      <th>150</th>\n",
       "      <td>0</td>\n",
       "      <td>1</td>\n",
       "    </tr>\n",
       "    <tr>\n",
       "      <th>153</th>\n",
       "      <td>1</td>\n",
       "      <td>0</td>\n",
       "    </tr>\n",
       "    <tr>\n",
       "      <th>160</th>\n",
       "      <td>1</td>\n",
       "      <td>0</td>\n",
       "    </tr>\n",
       "    <tr>\n",
       "      <th>161</th>\n",
       "      <td>0</td>\n",
       "      <td>1</td>\n",
       "    </tr>\n",
       "    <tr>\n",
       "      <th>163</th>\n",
       "      <td>1</td>\n",
       "      <td>0</td>\n",
       "    </tr>\n",
       "    <tr>\n",
       "      <th>165</th>\n",
       "      <td>1</td>\n",
       "      <td>0</td>\n",
       "    </tr>\n",
       "    <tr>\n",
       "      <th>168</th>\n",
       "      <td>1</td>\n",
       "      <td>1</td>\n",
       "    </tr>\n",
       "    <tr>\n",
       "      <th>172</th>\n",
       "      <td>1</td>\n",
       "      <td>0</td>\n",
       "    </tr>\n",
       "    <tr>\n",
       "      <th>173</th>\n",
       "      <td>1</td>\n",
       "      <td>0</td>\n",
       "    </tr>\n",
       "    <tr>\n",
       "      <th>185</th>\n",
       "      <td>1</td>\n",
       "      <td>0</td>\n",
       "    </tr>\n",
       "    <tr>\n",
       "      <th>208</th>\n",
       "      <td>1</td>\n",
       "      <td>0</td>\n",
       "    </tr>\n",
       "    <tr>\n",
       "      <th>225</th>\n",
       "      <td>0</td>\n",
       "      <td>1</td>\n",
       "    </tr>\n",
       "    <tr>\n",
       "      <th>235</th>\n",
       "      <td>0</td>\n",
       "      <td>1</td>\n",
       "    </tr>\n",
       "    <tr>\n",
       "      <th>253</th>\n",
       "      <td>0</td>\n",
       "      <td>1</td>\n",
       "    </tr>\n",
       "    <tr>\n",
       "      <th>260</th>\n",
       "      <td>1</td>\n",
       "      <td>0</td>\n",
       "    </tr>\n",
       "    <tr>\n",
       "      <th>...</th>\n",
       "      <td>...</td>\n",
       "      <td>...</td>\n",
       "    </tr>\n",
       "    <tr>\n",
       "      <th>54001</th>\n",
       "      <td>0</td>\n",
       "      <td>1</td>\n",
       "    </tr>\n",
       "    <tr>\n",
       "      <th>54286</th>\n",
       "      <td>1</td>\n",
       "      <td>0</td>\n",
       "    </tr>\n",
       "    <tr>\n",
       "      <th>55820</th>\n",
       "      <td>0</td>\n",
       "      <td>1</td>\n",
       "    </tr>\n",
       "    <tr>\n",
       "      <th>56174</th>\n",
       "      <td>1</td>\n",
       "      <td>0</td>\n",
       "    </tr>\n",
       "    <tr>\n",
       "      <th>56367</th>\n",
       "      <td>0</td>\n",
       "      <td>1</td>\n",
       "    </tr>\n",
       "    <tr>\n",
       "      <th>58559</th>\n",
       "      <td>1</td>\n",
       "      <td>1</td>\n",
       "    </tr>\n",
       "    <tr>\n",
       "      <th>59315</th>\n",
       "      <td>1</td>\n",
       "      <td>0</td>\n",
       "    </tr>\n",
       "    <tr>\n",
       "      <th>59784</th>\n",
       "      <td>1</td>\n",
       "      <td>0</td>\n",
       "    </tr>\n",
       "    <tr>\n",
       "      <th>63082</th>\n",
       "      <td>0</td>\n",
       "      <td>1</td>\n",
       "    </tr>\n",
       "    <tr>\n",
       "      <th>68157</th>\n",
       "      <td>1</td>\n",
       "      <td>1</td>\n",
       "    </tr>\n",
       "    <tr>\n",
       "      <th>68358</th>\n",
       "      <td>1</td>\n",
       "      <td>0</td>\n",
       "    </tr>\n",
       "    <tr>\n",
       "      <th>68954</th>\n",
       "      <td>0</td>\n",
       "      <td>1</td>\n",
       "    </tr>\n",
       "    <tr>\n",
       "      <th>71535</th>\n",
       "      <td>1</td>\n",
       "      <td>0</td>\n",
       "    </tr>\n",
       "    <tr>\n",
       "      <th>72998</th>\n",
       "      <td>1</td>\n",
       "      <td>0</td>\n",
       "    </tr>\n",
       "    <tr>\n",
       "      <th>73017</th>\n",
       "      <td>1</td>\n",
       "      <td>0</td>\n",
       "    </tr>\n",
       "    <tr>\n",
       "      <th>74458</th>\n",
       "      <td>0</td>\n",
       "      <td>1</td>\n",
       "    </tr>\n",
       "    <tr>\n",
       "      <th>79132</th>\n",
       "      <td>1</td>\n",
       "      <td>1</td>\n",
       "    </tr>\n",
       "    <tr>\n",
       "      <th>80463</th>\n",
       "      <td>0</td>\n",
       "      <td>1</td>\n",
       "    </tr>\n",
       "    <tr>\n",
       "      <th>81845</th>\n",
       "      <td>0</td>\n",
       "      <td>1</td>\n",
       "    </tr>\n",
       "    <tr>\n",
       "      <th>88125</th>\n",
       "      <td>1</td>\n",
       "      <td>1</td>\n",
       "    </tr>\n",
       "    <tr>\n",
       "      <th>89745</th>\n",
       "      <td>1</td>\n",
       "      <td>0</td>\n",
       "    </tr>\n",
       "    <tr>\n",
       "      <th>91500</th>\n",
       "      <td>1</td>\n",
       "      <td>1</td>\n",
       "    </tr>\n",
       "    <tr>\n",
       "      <th>91529</th>\n",
       "      <td>1</td>\n",
       "      <td>0</td>\n",
       "    </tr>\n",
       "    <tr>\n",
       "      <th>96079</th>\n",
       "      <td>1</td>\n",
       "      <td>0</td>\n",
       "    </tr>\n",
       "    <tr>\n",
       "      <th>99114</th>\n",
       "      <td>1</td>\n",
       "      <td>1</td>\n",
       "    </tr>\n",
       "    <tr>\n",
       "      <th>106782</th>\n",
       "      <td>0</td>\n",
       "      <td>1</td>\n",
       "    </tr>\n",
       "    <tr>\n",
       "      <th>109374</th>\n",
       "      <td>0</td>\n",
       "      <td>1</td>\n",
       "    </tr>\n",
       "    <tr>\n",
       "      <th>112852</th>\n",
       "      <td>1</td>\n",
       "      <td>0</td>\n",
       "    </tr>\n",
       "    <tr>\n",
       "      <th>116797</th>\n",
       "      <td>0</td>\n",
       "      <td>1</td>\n",
       "    </tr>\n",
       "    <tr>\n",
       "      <th>122904</th>\n",
       "      <td>1</td>\n",
       "      <td>0</td>\n",
       "    </tr>\n",
       "  </tbody>\n",
       "</table>\n",
       "<p>296 rows × 2 columns</p>\n",
       "</div>"
      ],
      "text/plain": [
       "         Action  Drama\n",
       "filmeId               \n",
       "6             1      0\n",
       "10            1      0\n",
       "11            0      1\n",
       "16            0      1\n",
       "17            0      1\n",
       "25            0      1\n",
       "34            0      1\n",
       "36            0      1\n",
       "48            0      1\n",
       "62            0      1\n",
       "70            1      0\n",
       "95            1      0\n",
       "110           1      1\n",
       "111           0      1\n",
       "145           1      1\n",
       "150           0      1\n",
       "153           1      0\n",
       "160           1      0\n",
       "161           0      1\n",
       "163           1      0\n",
       "165           1      0\n",
       "168           1      1\n",
       "172           1      0\n",
       "173           1      0\n",
       "185           1      0\n",
       "208           1      0\n",
       "225           0      1\n",
       "235           0      1\n",
       "253           0      1\n",
       "260           1      0\n",
       "...         ...    ...\n",
       "54001         0      1\n",
       "54286         1      0\n",
       "55820         0      1\n",
       "56174         1      0\n",
       "56367         0      1\n",
       "58559         1      1\n",
       "59315         1      0\n",
       "59784         1      0\n",
       "63082         0      1\n",
       "68157         1      1\n",
       "68358         1      0\n",
       "68954         0      1\n",
       "71535         1      0\n",
       "72998         1      0\n",
       "73017         1      0\n",
       "74458         0      1\n",
       "79132         1      1\n",
       "80463         0      1\n",
       "81845         0      1\n",
       "88125         1      1\n",
       "89745         1      0\n",
       "91500         1      1\n",
       "91529         1      0\n",
       "96079         1      0\n",
       "99114         1      1\n",
       "106782        0      1\n",
       "109374        0      1\n",
       "112852        1      0\n",
       "116797        0      1\n",
       "122904        1      0\n",
       "\n",
       "[296 rows x 2 columns]"
      ]
     },
     "execution_count": 155,
     "metadata": {},
     "output_type": "execute_result"
    }
   ],
   "source": [
    "# solução: calculando os 2 generos mais votados\n",
    "dois_generos_mais_assistidos = filmes.query('Action==1 or Drama==1')\n",
    "dois_generos_mais_assistidos[['Action', 'Drama']]"
   ]
  },
  {
   "cell_type": "code",
   "execution_count": 171,
   "metadata": {},
   "outputs": [
    {
     "data": {
      "text/html": [
       "<div>\n",
       "<style scoped>\n",
       "    .dataframe tbody tr th:only-of-type {\n",
       "        vertical-align: middle;\n",
       "    }\n",
       "\n",
       "    .dataframe tbody tr th {\n",
       "        vertical-align: top;\n",
       "    }\n",
       "\n",
       "    .dataframe thead th {\n",
       "        text-align: right;\n",
       "    }\n",
       "</style>\n",
       "<table border=\"1\" class=\"dataframe\">\n",
       "  <thead>\n",
       "    <tr style=\"text-align: right;\">\n",
       "      <th></th>\n",
       "      <th>titulo</th>\n",
       "      <th>nota_media</th>\n",
       "      <th>total_de_votos</th>\n",
       "      <th>Action</th>\n",
       "      <th>Drama</th>\n",
       "    </tr>\n",
       "    <tr>\n",
       "      <th>filmeId</th>\n",
       "      <th></th>\n",
       "      <th></th>\n",
       "      <th></th>\n",
       "      <th></th>\n",
       "      <th></th>\n",
       "    </tr>\n",
       "  </thead>\n",
       "  <tbody>\n",
       "    <tr>\n",
       "      <th>318</th>\n",
       "      <td>Shawshank Redemption, The (1994)</td>\n",
       "      <td>4.429022</td>\n",
       "      <td>317.0</td>\n",
       "      <td>0</td>\n",
       "      <td>1</td>\n",
       "    </tr>\n",
       "    <tr>\n",
       "      <th>858</th>\n",
       "      <td>Godfather, The (1972)</td>\n",
       "      <td>4.289062</td>\n",
       "      <td>192.0</td>\n",
       "      <td>0</td>\n",
       "      <td>1</td>\n",
       "    </tr>\n",
       "    <tr>\n",
       "      <th>2959</th>\n",
       "      <td>Fight Club (1999)</td>\n",
       "      <td>4.272936</td>\n",
       "      <td>218.0</td>\n",
       "      <td>1</td>\n",
       "      <td>1</td>\n",
       "    </tr>\n",
       "    <tr>\n",
       "      <th>1276</th>\n",
       "      <td>Cool Hand Luke (1967)</td>\n",
       "      <td>4.271930</td>\n",
       "      <td>57.0</td>\n",
       "      <td>0</td>\n",
       "      <td>1</td>\n",
       "    </tr>\n",
       "    <tr>\n",
       "      <th>1221</th>\n",
       "      <td>Godfather: Part II, The (1974)</td>\n",
       "      <td>4.259690</td>\n",
       "      <td>129.0</td>\n",
       "      <td>0</td>\n",
       "      <td>1</td>\n",
       "    </tr>\n",
       "  </tbody>\n",
       "</table>\n",
       "</div>"
      ],
      "text/plain": [
       "                                   titulo  nota_media  total_de_votos  Action  \\\n",
       "filmeId                                                                         \n",
       "318      Shawshank Redemption, The (1994)    4.429022           317.0       0   \n",
       "858                 Godfather, The (1972)    4.289062           192.0       0   \n",
       "2959                    Fight Club (1999)    4.272936           218.0       1   \n",
       "1276                Cool Hand Luke (1967)    4.271930            57.0       0   \n",
       "1221       Godfather: Part II, The (1974)    4.259690           129.0       0   \n",
       "\n",
       "         Drama  \n",
       "filmeId         \n",
       "318          1  \n",
       "858          1  \n",
       "2959         1  \n",
       "1276         1  \n",
       "1221         1  "
      ]
     },
     "execution_count": 171,
     "metadata": {},
     "output_type": "execute_result"
    }
   ],
   "source": [
    "# solução: encontrando os top 5 filmes desses generos\n",
    "top_5_filmes_de_action_drama = dois_generos_mais_assistidos.sort_values('nota_media', ascending=False).head(5)\n",
    "top_5_filmes_de_action_drama[['titulo', 'nota_media', 'total_de_votos', 'Action', 'Drama']]"
   ]
  },
  {
   "cell_type": "markdown",
   "metadata": {},
   "source": [
    "## Pergunta: Quais são os 2 generos com maior valor de correlação com a `nota_media`? E os 2 com menor valor de correlação com a `nota_media`?\n",
    "\n",
    "- O pandas possui a função `corr` para calcular correlação entre todas as colunas"
   ]
  },
  {
   "cell_type": "code",
   "execution_count": 218,
   "metadata": {},
   "outputs": [
    {
     "data": {
      "text/plain": [
       "Drama          0.277662\n",
       "Crime          0.190220\n",
       "Mystery        0.129914\n",
       "War            0.125615\n",
       "FilmNoir       0.081766\n",
       "IMAX           0.064931\n",
       "Animation      0.043071\n",
       "Documentary   -0.003486\n",
       "Musical       -0.008529\n",
       "Thriller      -0.016782\n",
       "Fantasy       -0.020986\n",
       "Children      -0.030360\n",
       "Horror        -0.033877\n",
       "Western       -0.059642\n",
       "Romance       -0.072002\n",
       "Adventure     -0.079985\n",
       "SciFi         -0.136717\n",
       "Action        -0.154089\n",
       "Comedy        -0.256005\n",
       "Name: nota_media, dtype: float64"
      ]
     },
     "execution_count": 218,
     "metadata": {},
     "output_type": "execute_result"
    }
   ],
   "source": [
    "# solucao\n",
    "correlacao_entre_generos_e_nota_media = filmes.corr()['nota_media'][generos.columns].sort_values(ascending=False)\n",
    "correlacao_entre_generos_e_nota_media"
   ]
  },
  {
   "cell_type": "code",
   "execution_count": 223,
   "metadata": {},
   "outputs": [
    {
     "name": "stdout",
     "output_type": "stream",
     "text": [
      "Os dois gêneros com maior valor de correlação com a nota média são Drama e Crime.\n",
      "Os dois gêneros com menor valor de correlação com a nota média são Action e Comedy.\n"
     ]
    }
   ],
   "source": [
    "print(\"Os dois gêneros com maior valor de correlação com a nota média são {} e {}.\"\n",
    "     .format(correlacao_entre_generos_e_nota_media.head(2).index[0],\n",
    "            correlacao_entre_generos_e_nota_media.head(2).index[1]))\n",
    "\n",
    "print(\"Os dois gêneros com menor valor de correlação com a nota média são {} e {}.\"\n",
    "     .format(correlacao_entre_generos_e_nota_media.tail(2).index[0],\n",
    "            correlacao_entre_generos_e_nota_media.tail(2).index[1]))"
   ]
  },
  {
   "cell_type": "markdown",
   "metadata": {},
   "source": [
    "## Pergunta: Quais são os 2 generos com maior correlação com `total_de_votos`? E quais os 2 com menor correlação com `total_de_votos`?"
   ]
  },
  {
   "cell_type": "code",
   "execution_count": 221,
   "metadata": {},
   "outputs": [
    {
     "data": {
      "text/plain": [
       "Adventure      0.104380\n",
       "War            0.087999\n",
       "Thriller       0.085525\n",
       "Crime          0.079766\n",
       "Action         0.066239\n",
       "SciFi          0.063802\n",
       "Animation      0.023442\n",
       "Drama          0.018779\n",
       "Children       0.001764\n",
       "Mystery       -0.007051\n",
       "Fantasy       -0.009976\n",
       "IMAX          -0.016285\n",
       "Musical       -0.024741\n",
       "Horror        -0.036132\n",
       "FilmNoir      -0.039408\n",
       "Romance       -0.045427\n",
       "Documentary   -0.055010\n",
       "Western       -0.060789\n",
       "Comedy        -0.128527\n",
       "Name: total_de_votos, dtype: float64"
      ]
     },
     "execution_count": 221,
     "metadata": {},
     "output_type": "execute_result"
    }
   ],
   "source": [
    "# solucao\n",
    "correlacao_entre_generos_e_total_de_votos = filmes.corr()['total_de_votos'][generos.columns].sort_values(ascending=False)\n",
    "correlacao_entre_generos_e_total_de_votos"
   ]
  },
  {
   "cell_type": "code",
   "execution_count": 222,
   "metadata": {},
   "outputs": [
    {
     "name": "stdout",
     "output_type": "stream",
     "text": [
      "Os dois gêneros com maior valor de correlação com total de votos são Adventure e War.\n",
      "Os dois gêneros com menor valor de correlação com total de votos são Western e Comedy.\n"
     ]
    }
   ],
   "source": [
    "print(\"Os dois gêneros com maior valor de correlação com total de votos são {} e {}.\"\n",
    "     .format(correlacao_entre_generos_e_total_de_votos.head(2).index[0],\n",
    "            correlacao_entre_generos_e_total_de_votos.head(2).index[1]))\n",
    "\n",
    "print(\"Os dois gêneros com menor valor de correlação com total de votos são {} e {}.\"\n",
    "     .format(correlacao_entre_generos_e_total_de_votos.tail(2).index[0],\n",
    "            correlacao_entre_generos_e_total_de_votos.tail(2).index[1]))"
   ]
  },
  {
   "cell_type": "markdown",
   "metadata": {},
   "source": [
    "## Pergunta: Visualize graficamente o relacionamento entre ano de lançamento e nota média\n",
    "\n",
    "- Use o gráfico `lineplot`"
   ]
  },
  {
   "cell_type": "code",
   "execution_count": 224,
   "metadata": {},
   "outputs": [
    {
     "data": {
      "text/plain": [
       "<matplotlib.axes._subplots.AxesSubplot at 0x7f12bec195c0>"
      ]
     },
     "execution_count": 224,
     "metadata": {},
     "output_type": "execute_result"
    },
    {
     "data": {
      "image/png": "[encoded data removed]",
      "text/plain": [
       "<Figure size 432x288 with 1 Axes>"
      ]
     },
     "metadata": {},
     "output_type": "display_data"
    }
   ],
   "source": [
    "# solucao\n",
    "sns.lineplot(data=filmes, x='ano_de_lancamento', y='nota_media')"
   ]
  },
  {
   "cell_type": "markdown",
   "metadata": {},
   "source": [
    "## Pergunta: Interprete a correlação entre `ano_de_lancamento` e a `nota_media`?\n",
    "\n",
    "- Calcule a correlação numericamente (use o `corr` do pandas)\n",
    "- Correlação não implica causalidade, qual \"problema\" na coleta dos dados pode gerar esse tipo de correlação?"
   ]
  },
  {
   "cell_type": "code",
   "execution_count": 227,
   "metadata": {},
   "outputs": [
    {
     "data": {
      "text/plain": [
       "-0.1591455520444448"
      ]
     },
     "execution_count": 227,
     "metadata": {},
     "output_type": "execute_result"
    }
   ],
   "source": [
    "# solução (código)\n",
    "filmes.corr()['ano_de_lancamento']['nota_media']"
   ]
  },
  {
   "cell_type": "code",
   "execution_count": 229,
   "metadata": {},
   "outputs": [
    {
     "data": {
      "text/plain": [
       "<matplotlib.axes._subplots.AxesSubplot at 0x7f12beb2d940>"
      ]
     },
     "execution_count": 229,
     "metadata": {},
     "output_type": "execute_result"
    },
    {
     "data": {
      "image/png": "[encoded data removed]",
      "text/plain": [
       "<Figure size 432x288 with 1 Axes>"
      ]
     },
     "metadata": {},
     "output_type": "display_data"
    }
   ],
   "source": [
    "sns.distplot(filmes.ano_de_lancamento, kde=False )"
   ]
  },
  {
   "cell_type": "markdown",
   "metadata": {},
   "source": [
    "### Solução (explicação)\n",
    "\n",
    "O coeficiente de correlação mostra que, quanto maior o ano de lançamento, menor as notas médias.\n",
    "Um possível problema que podemos analisar através do gráfico de distribuição é que existem muito menos filmes antigos que filmes novos em nossa amostra. Isso pode implicar em uma correlação instável para os filmes antigos."
   ]
  },
  {
   "cell_type": "markdown",
   "metadata": {},
   "source": [
    "## Pergunta: analise um pairplot\n",
    "\n",
    "- crie uma variável chamada `infos` baseada nas colunas `ano_de_lancamento`, `nota_media` e `total_de_votos` de `filmes`\n",
    "- faça o pairplot usando seaborn\n",
    "- coloque uma regressão linear para cada pequeno plot dentro dele"
   ]
  },
  {
   "cell_type": "code",
   "execution_count": 233,
   "metadata": {},
   "outputs": [
    {
     "data": {
      "text/plain": [
       "<seaborn.axisgrid.PairGrid at 0x7f12be7a5cf8>"
      ]
     },
     "execution_count": 233,
     "metadata": {},
     "output_type": "execute_result"
    },
    {
     "data": {
      "image/png": "[encoded data removed]",
      "text/plain": [
       "<Figure size 1080x360 with 12 Axes>"
      ]
     },
     "metadata": {},
     "output_type": "display_data"
    }
   ],
   "source": [
    "# solução\n",
    "infos = ['ano_de_lancamento', 'nota_media', 'total_de_votos']\n",
    "ax = sns.pairplot(data=filmes, y_vars=infos, x_vars=infos, kind='reg')\n",
    "ax.fig.suptitle('Dispersão entre as Variáveis ano_de_lancamento, nota_media e total_de_votos',\n",
    "                fontsize=20, y=1.05)\n",
    "ax.fig.set_size_inches((15,5))\n",
    "ax"
   ]
  },
  {
   "cell_type": "markdown",
   "metadata": {},
   "source": [
    "## Pergunta: analise um pairplot dos filmes de `Animation`\n",
    "\n",
    "- use o dataframe `filmes`\n",
    "- em um único pairplot separe com cores distintas os filmes da categoria `Animation` dos outros\n",
    "- use uma palete como `husl`\n",
    "- use marcadores distintos para cada um dos dois grupos\n",
    "- faça o pairplot usando seaborn e coloque uma regressão linear para cada pequeno plot dentro dele\n",
    "- tanto em x quanto y use somente três variáveis: `total_de_votos`, `ano_de_lancamento`, `nota_media`"
   ]
  },
  {
   "cell_type": "code",
   "execution_count": 240,
   "metadata": {},
   "outputs": [
    {
     "data": {
      "text/plain": [
       "<seaborn.axisgrid.PairGrid at 0x7f12bc038320>"
      ]
     },
     "execution_count": 240,
     "metadata": {},
     "output_type": "execute_result"
    },
    {
     "data": {
      "image/png": "[encoded data removed]",
      "text/plain": [
       "<Figure size 1080x360 with 12 Axes>"
      ]
     },
     "metadata": {},
     "output_type": "display_data"
    }
   ],
   "source": [
    "ax = sns.pairplot(data=filmes, y_vars=infos, x_vars=infos, kind='reg', \n",
    "                  palette=\"husl\", hue='Animation', markers=[\"o\", \"s\"])\n",
    "ax.fig.suptitle('Dispersão entre as Variáveis ano_de_lancamento, nota_media e total_de_votos',\n",
    "                fontsize=20, y=1.05)\n",
    "ax.fig.set_size_inches((15,5))\n",
    "ax"
   ]
  },
  {
   "cell_type": "markdown",
   "metadata": {},
   "source": [
    "## Pergunta: Analise a regressão em relação ao ano de lançamento.\n",
    "\n",
    "- Como parece se comportar a `nota_media` de filmes de `Animation` mais antigos e mais recentes? (ano_de_lancamento x nota_media). Essa correlação parece ser baixa, mas parece ser linear?\n",
    "- E o `ano_de_lancamento` x `total_de_votos`?\n",
    "- E das outras categorias? Compare isso com os outros filmes.\n",
    "- O que leva você levantar como hipótese para esse resultado?"
   ]
  },
  {
   "cell_type": "markdown",
   "metadata": {},
   "source": [
    "### Solução:\n",
    "\n",
    "1- Parece existir uma correlação positiva entre eles, ou seja, conforme o ano de lançamento aumenta, a nota média também aumenta. Apesar de existirem poucos pontos para filmes antigos e alguns outliers, a correlação da média parece ser linear.\n",
    "\n",
    "2- Também há uma correlação positiva entre ano_de_lancamento e total_de_votos para os filmes de animação, porém a dispersão do gráfico não parece ser linear.\n",
    "\n",
    "3- Ao contrário dos filmes de animação, os resultados para as outras categorias são menos positivos, mas ambos possuem o problema de poucos filmes antigos. Por exemplo, ao contrário dos filmes de animação, a nota média do total dos filmes tende a cair ao passar dos anos.\n",
    "\n",
    "4- No geral, ao passar dos anos, temos mais filmes sendo criados, o que influencia negativamente na nota média, pois quanto maior o numero de filmes, mais dificil será de levantar a média. Para o genêro de animação, minha hipotese é que, ao passar dos anos, os recursos tecnologicos disponiveis para criação dos filmes de animação aumentam, tornando esse gênero cada vez mais interessante."
   ]
  },
  {
   "cell_type": "markdown",
   "metadata": {},
   "source": [
    "## Pergunta: Explore\n",
    "\n",
    "- compartilhe conosco 2 visualizações extras que julgar interessante\n",
    "- explique o que encontrou\n",
    "- use quantas células (texto ou código) julgar necessário"
   ]
  },
  {
   "cell_type": "code",
   "execution_count": 241,
   "metadata": {},
   "outputs": [
    {
     "data": {
      "text/plain": [
       "<matplotlib.axes._subplots.AxesSubplot at 0x7f12b7b1a470>"
      ]
     },
     "execution_count": 241,
     "metadata": {},
     "output_type": "execute_result"
    },
    {
     "data": {
      "image/png": "[encoded data removed]",
      "text/plain": [
       "<Figure size 432x288 with 1 Axes>"
      ]
     },
     "metadata": {},
     "output_type": "display_data"
    }
   ],
   "source": [
    "# solução\n",
    "sns.distplot(filmes.ano_de_lancamento, kde=False )"
   ]
  },
  {
   "cell_type": "code",
   "execution_count": 242,
   "metadata": {},
   "outputs": [
    {
     "data": {
      "text/plain": [
       "<matplotlib.axes._subplots.AxesSubplot at 0x7f12b7b1a860>"
      ]
     },
     "execution_count": 242,
     "metadata": {},
     "output_type": "execute_result"
    },
    {
     "data": {
      "image/png": "[encoded data removed]",
      "text/plain": [
       "<Figure size 432x288 with 1 Axes>"
      ]
     },
     "metadata": {},
     "output_type": "display_data"
    }
   ],
   "source": [
    "filmes_acima_de_1980 = filmes.query('ano_de_lancamento>1980')\n",
    "sns.distplot(filmes_acima_de_1980.ano_de_lancamento, kde=False )"
   ]
  },
  {
   "cell_type": "code",
   "execution_count": 249,
   "metadata": {},
   "outputs": [
    {
     "data": {
      "text/plain": [
       "<seaborn.axisgrid.PairGrid at 0x7f12b6d9f5c0>"
      ]
     },
     "execution_count": 249,
     "metadata": {},
     "output_type": "execute_result"
    },
    {
     "data": {
      "image/png": "[encoded data removed]",
      "text/plain": [
       "<Figure size 1080x360 with 12 Axes>"
      ]
     },
     "metadata": {},
     "output_type": "display_data"
    }
   ],
   "source": [
    "# solução\n",
    "infos = ['ano_de_lancamento', 'nota_media', 'total_de_votos']\n",
    "ax = sns.pairplot(data=filmes_acima_de_1980, y_vars=infos, x_vars=infos,\n",
    "                  kind='reg', hue='War')\n",
    "ax.fig.suptitle('Dispersão entre as Variáveis ano_de_lancamento, nota_media e total_de_votos',\n",
    "                fontsize=20, y=1.05)\n",
    "ax.fig.set_size_inches((15,5))\n",
    "ax"
   ]
  },
  {
   "cell_type": "code",
   "execution_count": null,
   "metadata": {},
   "outputs": [],
   "source": []
  }
 ],
 "metadata": {
  "kernelspec": {
   "display_name": "Python 3",
   "language": "python",
   "name": "python3"
  },
  "language_info": {
   "codemirror_mode": {
    "name": "ipython",
    "version": 3
   },
   "file_extension": ".py",
   "mimetype": "text/x-python",
   "name": "python",
   "nbconvert_exporter": "python",
   "pygments_lexer": "ipython3",
   "version": "3.7.0"
  }
 },
 "nbformat": 4,
 "nbformat_minor": 2
}
